{
 "cells": [
  {
   "cell_type": "markdown",
   "metadata": {},
   "source": [
    "# Kickstarter: Exploration & Prediction\n",
    "By:\n",
    "* Cen Liang\n",
    "* Mahmoud Belhaj\n",
    "* Jonas Cristens"
   ]
  },
  {
   "cell_type": "markdown",
   "metadata": {},
   "source": [
    "### Load the required packages"
   ]
  },
  {
   "cell_type": "code",
   "execution_count": 46,
   "metadata": {
    "ExecuteTime": {
     "end_time": "2019-04-10T16:55:25.982056Z",
     "start_time": "2019-04-10T16:55:25.977054Z"
    }
   },
   "outputs": [],
   "source": [
    "import pandas as pd\n",
    "import numpy as np\n",
    "import matplotlib.pyplot as plt\n",
    "import seaborn as sns\n",
    "from sklearn.model_selection import train_test_split\n",
    "from sklearn.linear_model import LogisticRegression\n",
    "from sklearn.preprocessing import normalize\n",
    "from sklearn.metrics import accuracy_score\n",
    "from sklearn.ensemble import ExtraTreesClassifier\n",
    "from sklearn.metrics import silhouette_score\n",
    "\n",
    "from scikitplot.metrics import plot_confusion_matrix\n",
    "from scikitplot.estimators import plot_feature_importances\n",
    "from scikitplot.estimators import plot_learning_curve\n",
    "from scikitplot.cluster import plot_elbow_curve\n",
    "from scikitplot.metrics import plot_silhouette\n",
    "from imblearn.over_sampling import SMOTE\n",
    "\n",
    "from scipy import stats\n",
    "\n",
    "from sklearn.cluster import KMeans"
   ]
  },
  {
   "cell_type": "markdown",
   "metadata": {},
   "source": [
    "### Read the Kickstarter projects file 201801 csv and parse the dates and change the categorical columns to categories"
   ]
  },
  {
   "cell_type": "code",
   "execution_count": 47,
   "metadata": {
    "ExecuteTime": {
     "end_time": "2019-04-10T16:55:27.894261Z",
     "start_time": "2019-04-10T16:55:26.333277Z"
    }
   },
   "outputs": [
    {
     "data": {
      "text/html": [
       "<div>\n",
       "<style scoped>\n",
       "    .dataframe tbody tr th:only-of-type {\n",
       "        vertical-align: middle;\n",
       "    }\n",
       "\n",
       "    .dataframe tbody tr th {\n",
       "        vertical-align: top;\n",
       "    }\n",
       "\n",
       "    .dataframe thead th {\n",
       "        text-align: right;\n",
       "    }\n",
       "</style>\n",
       "<table border=\"1\" class=\"dataframe\">\n",
       "  <thead>\n",
       "    <tr style=\"text-align: right;\">\n",
       "      <th></th>\n",
       "      <th>name</th>\n",
       "      <th>category</th>\n",
       "      <th>main_category</th>\n",
       "      <th>currency</th>\n",
       "      <th>deadline</th>\n",
       "      <th>goal</th>\n",
       "      <th>launched</th>\n",
       "      <th>pledged</th>\n",
       "      <th>state</th>\n",
       "      <th>backers</th>\n",
       "      <th>country</th>\n",
       "      <th>usd pledged</th>\n",
       "      <th>usd_pledged_real</th>\n",
       "      <th>usd_goal_real</th>\n",
       "    </tr>\n",
       "    <tr>\n",
       "      <th>ID</th>\n",
       "      <th></th>\n",
       "      <th></th>\n",
       "      <th></th>\n",
       "      <th></th>\n",
       "      <th></th>\n",
       "      <th></th>\n",
       "      <th></th>\n",
       "      <th></th>\n",
       "      <th></th>\n",
       "      <th></th>\n",
       "      <th></th>\n",
       "      <th></th>\n",
       "      <th></th>\n",
       "      <th></th>\n",
       "    </tr>\n",
       "  </thead>\n",
       "  <tbody>\n",
       "    <tr>\n",
       "      <th>1000002330</th>\n",
       "      <td>The Songs of Adelaide &amp; Abullah</td>\n",
       "      <td>Poetry</td>\n",
       "      <td>Publishing</td>\n",
       "      <td>GBP</td>\n",
       "      <td>2015-10-09</td>\n",
       "      <td>1000.0</td>\n",
       "      <td>2015-08-11 12:12:28</td>\n",
       "      <td>0.0</td>\n",
       "      <td>failed</td>\n",
       "      <td>0</td>\n",
       "      <td>GB</td>\n",
       "      <td>0.0</td>\n",
       "      <td>0.0</td>\n",
       "      <td>1533.95</td>\n",
       "    </tr>\n",
       "    <tr>\n",
       "      <th>1000003930</th>\n",
       "      <td>Greeting From Earth: ZGAC Arts Capsule For ET</td>\n",
       "      <td>Narrative Film</td>\n",
       "      <td>Film &amp; Video</td>\n",
       "      <td>USD</td>\n",
       "      <td>2017-11-01</td>\n",
       "      <td>30000.0</td>\n",
       "      <td>2017-09-02 04:43:57</td>\n",
       "      <td>2421.0</td>\n",
       "      <td>failed</td>\n",
       "      <td>15</td>\n",
       "      <td>US</td>\n",
       "      <td>100.0</td>\n",
       "      <td>2421.0</td>\n",
       "      <td>30000.00</td>\n",
       "    </tr>\n",
       "    <tr>\n",
       "      <th>1000004038</th>\n",
       "      <td>Where is Hank?</td>\n",
       "      <td>Narrative Film</td>\n",
       "      <td>Film &amp; Video</td>\n",
       "      <td>USD</td>\n",
       "      <td>2013-02-26</td>\n",
       "      <td>45000.0</td>\n",
       "      <td>2013-01-12 00:20:50</td>\n",
       "      <td>220.0</td>\n",
       "      <td>failed</td>\n",
       "      <td>3</td>\n",
       "      <td>US</td>\n",
       "      <td>220.0</td>\n",
       "      <td>220.0</td>\n",
       "      <td>45000.00</td>\n",
       "    </tr>\n",
       "    <tr>\n",
       "      <th>1000007540</th>\n",
       "      <td>ToshiCapital Rekordz Needs Help to Complete Album</td>\n",
       "      <td>Music</td>\n",
       "      <td>Music</td>\n",
       "      <td>USD</td>\n",
       "      <td>2012-04-16</td>\n",
       "      <td>5000.0</td>\n",
       "      <td>2012-03-17 03:24:11</td>\n",
       "      <td>1.0</td>\n",
       "      <td>failed</td>\n",
       "      <td>1</td>\n",
       "      <td>US</td>\n",
       "      <td>1.0</td>\n",
       "      <td>1.0</td>\n",
       "      <td>5000.00</td>\n",
       "    </tr>\n",
       "    <tr>\n",
       "      <th>1000011046</th>\n",
       "      <td>Community Film Project: The Art of Neighborhoo...</td>\n",
       "      <td>Film &amp; Video</td>\n",
       "      <td>Film &amp; Video</td>\n",
       "      <td>USD</td>\n",
       "      <td>2015-08-29</td>\n",
       "      <td>19500.0</td>\n",
       "      <td>2015-07-04 08:35:03</td>\n",
       "      <td>1283.0</td>\n",
       "      <td>canceled</td>\n",
       "      <td>14</td>\n",
       "      <td>US</td>\n",
       "      <td>1283.0</td>\n",
       "      <td>1283.0</td>\n",
       "      <td>19500.00</td>\n",
       "    </tr>\n",
       "  </tbody>\n",
       "</table>\n",
       "</div>"
      ],
      "text/plain": [
       "                                                         name        category  \\\n",
       "ID                                                                              \n",
       "1000002330                    The Songs of Adelaide & Abullah          Poetry   \n",
       "1000003930      Greeting From Earth: ZGAC Arts Capsule For ET  Narrative Film   \n",
       "1000004038                                     Where is Hank?  Narrative Film   \n",
       "1000007540  ToshiCapital Rekordz Needs Help to Complete Album           Music   \n",
       "1000011046  Community Film Project: The Art of Neighborhoo...    Film & Video   \n",
       "\n",
       "           main_category currency   deadline     goal            launched  \\\n",
       "ID                                                                          \n",
       "1000002330    Publishing      GBP 2015-10-09   1000.0 2015-08-11 12:12:28   \n",
       "1000003930  Film & Video      USD 2017-11-01  30000.0 2017-09-02 04:43:57   \n",
       "1000004038  Film & Video      USD 2013-02-26  45000.0 2013-01-12 00:20:50   \n",
       "1000007540         Music      USD 2012-04-16   5000.0 2012-03-17 03:24:11   \n",
       "1000011046  Film & Video      USD 2015-08-29  19500.0 2015-07-04 08:35:03   \n",
       "\n",
       "            pledged     state  backers country  usd pledged  usd_pledged_real  \\\n",
       "ID                                                                              \n",
       "1000002330      0.0    failed        0      GB          0.0               0.0   \n",
       "1000003930   2421.0    failed       15      US        100.0            2421.0   \n",
       "1000004038    220.0    failed        3      US        220.0             220.0   \n",
       "1000007540      1.0    failed        1      US          1.0               1.0   \n",
       "1000011046   1283.0  canceled       14      US       1283.0            1283.0   \n",
       "\n",
       "            usd_goal_real  \n",
       "ID                         \n",
       "1000002330        1533.95  \n",
       "1000003930       30000.00  \n",
       "1000004038       45000.00  \n",
       "1000007540        5000.00  \n",
       "1000011046       19500.00  "
      ]
     },
     "execution_count": 47,
     "metadata": {},
     "output_type": "execute_result"
    }
   ],
   "source": [
    "df = pd.read_csv('ks-projects-201801.csv', parse_dates = ['launched', 'deadline'], index_col = 'ID')\n",
    "df = df.astype({\"category\": 'category',\n",
    "                \"main_category\": 'category', \n",
    "                \"currency\": 'category', \n",
    "                'state' : 'category', \n",
    "                'country' : 'category',\n",
    "               })\n",
    "df.head()"
   ]
  },
  {
   "cell_type": "markdown",
   "metadata": {},
   "source": [
    "### Check if there is data missing"
   ]
  },
  {
   "cell_type": "code",
   "execution_count": 48,
   "metadata": {
    "ExecuteTime": {
     "end_time": "2019-04-10T16:55:28.007776Z",
     "start_time": "2019-04-10T16:55:27.896734Z"
    }
   },
   "outputs": [
    {
     "name": "stdout",
     "output_type": "stream",
     "text": [
      "<class 'pandas.core.frame.DataFrame'>\n",
      "Int64Index: 378661 entries, 1000002330 to 999988282\n",
      "Data columns (total 14 columns):\n",
      "name                378657 non-null object\n",
      "category            378661 non-null category\n",
      "main_category       378661 non-null category\n",
      "currency            378661 non-null category\n",
      "deadline            378661 non-null datetime64[ns]\n",
      "goal                378661 non-null float64\n",
      "launched            378661 non-null datetime64[ns]\n",
      "pledged             378661 non-null float64\n",
      "state               378661 non-null category\n",
      "backers             378661 non-null int64\n",
      "country             378661 non-null category\n",
      "usd pledged         374864 non-null float64\n",
      "usd_pledged_real    378661 non-null float64\n",
      "usd_goal_real       378661 non-null float64\n",
      "dtypes: category(5), datetime64[ns](2), float64(5), int64(1), object(1)\n",
      "memory usage: 31.1+ MB\n"
     ]
    }
   ],
   "source": [
    "df.info()"
   ]
  },
  {
   "cell_type": "markdown",
   "metadata": {},
   "source": [
    "There are 3797 missing values for the column `usd_plegded` and 4 missing for the column `name`, there in total 378661 rows and 16 columns. \n",
    "\n",
    "`usd_plegded` is a conversion made by KS which sometime is the `usd_pledged_real` or sometimes a calculation which we don't understand."
   ]
  },
  {
   "cell_type": "code",
   "execution_count": 49,
   "metadata": {
    "ExecuteTime": {
     "end_time": "2019-04-10T16:55:28.163042Z",
     "start_time": "2019-04-10T16:55:28.009876Z"
    }
   },
   "outputs": [
    {
     "data": {
      "text/html": [
       "<div>\n",
       "<style scoped>\n",
       "    .dataframe tbody tr th:only-of-type {\n",
       "        vertical-align: middle;\n",
       "    }\n",
       "\n",
       "    .dataframe tbody tr th {\n",
       "        vertical-align: top;\n",
       "    }\n",
       "\n",
       "    .dataframe thead th {\n",
       "        text-align: right;\n",
       "    }\n",
       "</style>\n",
       "<table border=\"1\" class=\"dataframe\">\n",
       "  <thead>\n",
       "    <tr style=\"text-align: right;\">\n",
       "      <th></th>\n",
       "      <th>goal</th>\n",
       "      <th>pledged</th>\n",
       "      <th>backers</th>\n",
       "      <th>usd pledged</th>\n",
       "      <th>usd_pledged_real</th>\n",
       "      <th>usd_goal_real</th>\n",
       "    </tr>\n",
       "  </thead>\n",
       "  <tbody>\n",
       "    <tr>\n",
       "      <th>count</th>\n",
       "      <td>3.786610e+05</td>\n",
       "      <td>3.786610e+05</td>\n",
       "      <td>378661.000000</td>\n",
       "      <td>3.748640e+05</td>\n",
       "      <td>3.786610e+05</td>\n",
       "      <td>3.786610e+05</td>\n",
       "    </tr>\n",
       "    <tr>\n",
       "      <th>mean</th>\n",
       "      <td>4.908079e+04</td>\n",
       "      <td>9.682979e+03</td>\n",
       "      <td>105.617476</td>\n",
       "      <td>7.036729e+03</td>\n",
       "      <td>9.058924e+03</td>\n",
       "      <td>4.545440e+04</td>\n",
       "    </tr>\n",
       "    <tr>\n",
       "      <th>std</th>\n",
       "      <td>1.183391e+06</td>\n",
       "      <td>9.563601e+04</td>\n",
       "      <td>907.185035</td>\n",
       "      <td>7.863975e+04</td>\n",
       "      <td>9.097334e+04</td>\n",
       "      <td>1.152950e+06</td>\n",
       "    </tr>\n",
       "    <tr>\n",
       "      <th>min</th>\n",
       "      <td>1.000000e-02</td>\n",
       "      <td>0.000000e+00</td>\n",
       "      <td>0.000000</td>\n",
       "      <td>0.000000e+00</td>\n",
       "      <td>0.000000e+00</td>\n",
       "      <td>1.000000e-02</td>\n",
       "    </tr>\n",
       "    <tr>\n",
       "      <th>25%</th>\n",
       "      <td>2.000000e+03</td>\n",
       "      <td>3.000000e+01</td>\n",
       "      <td>2.000000</td>\n",
       "      <td>1.698000e+01</td>\n",
       "      <td>3.100000e+01</td>\n",
       "      <td>2.000000e+03</td>\n",
       "    </tr>\n",
       "    <tr>\n",
       "      <th>50%</th>\n",
       "      <td>5.200000e+03</td>\n",
       "      <td>6.200000e+02</td>\n",
       "      <td>12.000000</td>\n",
       "      <td>3.947200e+02</td>\n",
       "      <td>6.243300e+02</td>\n",
       "      <td>5.500000e+03</td>\n",
       "    </tr>\n",
       "    <tr>\n",
       "      <th>75%</th>\n",
       "      <td>1.600000e+04</td>\n",
       "      <td>4.076000e+03</td>\n",
       "      <td>56.000000</td>\n",
       "      <td>3.034090e+03</td>\n",
       "      <td>4.050000e+03</td>\n",
       "      <td>1.550000e+04</td>\n",
       "    </tr>\n",
       "    <tr>\n",
       "      <th>max</th>\n",
       "      <td>1.000000e+08</td>\n",
       "      <td>2.033899e+07</td>\n",
       "      <td>219382.000000</td>\n",
       "      <td>2.033899e+07</td>\n",
       "      <td>2.033899e+07</td>\n",
       "      <td>1.663614e+08</td>\n",
       "    </tr>\n",
       "  </tbody>\n",
       "</table>\n",
       "</div>"
      ],
      "text/plain": [
       "               goal       pledged        backers   usd pledged  \\\n",
       "count  3.786610e+05  3.786610e+05  378661.000000  3.748640e+05   \n",
       "mean   4.908079e+04  9.682979e+03     105.617476  7.036729e+03   \n",
       "std    1.183391e+06  9.563601e+04     907.185035  7.863975e+04   \n",
       "min    1.000000e-02  0.000000e+00       0.000000  0.000000e+00   \n",
       "25%    2.000000e+03  3.000000e+01       2.000000  1.698000e+01   \n",
       "50%    5.200000e+03  6.200000e+02      12.000000  3.947200e+02   \n",
       "75%    1.600000e+04  4.076000e+03      56.000000  3.034090e+03   \n",
       "max    1.000000e+08  2.033899e+07  219382.000000  2.033899e+07   \n",
       "\n",
       "       usd_pledged_real  usd_goal_real  \n",
       "count      3.786610e+05   3.786610e+05  \n",
       "mean       9.058924e+03   4.545440e+04  \n",
       "std        9.097334e+04   1.152950e+06  \n",
       "min        0.000000e+00   1.000000e-02  \n",
       "25%        3.100000e+01   2.000000e+03  \n",
       "50%        6.243300e+02   5.500000e+03  \n",
       "75%        4.050000e+03   1.550000e+04  \n",
       "max        2.033899e+07   1.663614e+08  "
      ]
     },
     "execution_count": 49,
     "metadata": {},
     "output_type": "execute_result"
    }
   ],
   "source": [
    "df.describe()"
   ]
  },
  {
   "cell_type": "markdown",
   "metadata": {},
   "source": [
    "### Check the data types"
   ]
  },
  {
   "cell_type": "code",
   "execution_count": 50,
   "metadata": {
    "ExecuteTime": {
     "end_time": "2019-04-10T16:55:28.171136Z",
     "start_time": "2019-04-10T16:55:28.165761Z"
    }
   },
   "outputs": [
    {
     "data": {
      "text/plain": [
       "name                        object\n",
       "category                  category\n",
       "main_category             category\n",
       "currency                  category\n",
       "deadline            datetime64[ns]\n",
       "goal                       float64\n",
       "launched            datetime64[ns]\n",
       "pledged                    float64\n",
       "state                     category\n",
       "backers                      int64\n",
       "country                   category\n",
       "usd pledged                float64\n",
       "usd_pledged_real           float64\n",
       "usd_goal_real              float64\n",
       "dtype: object"
      ]
     },
     "execution_count": 50,
     "metadata": {},
     "output_type": "execute_result"
    }
   ],
   "source": [
    "df.dtypes"
   ]
  },
  {
   "cell_type": "markdown",
   "metadata": {},
   "source": [
    "The dtypes are correct now we can calculate the difference in days between `launced` and `deadline`."
   ]
  },
  {
   "cell_type": "code",
   "execution_count": 51,
   "metadata": {
    "ExecuteTime": {
     "end_time": "2019-04-10T16:55:28.202326Z",
     "start_time": "2019-04-10T16:55:28.188295Z"
    }
   },
   "outputs": [
    {
     "data": {
      "text/plain": [
       "ID\n",
       "1000002330    58\n",
       "1000003930    59\n",
       "1000004038    44\n",
       "1000007540    29\n",
       "1000011046    55\n",
       "Name: days_to_collect, dtype: int64"
      ]
     },
     "execution_count": 51,
     "metadata": {},
     "output_type": "execute_result"
    }
   ],
   "source": [
    "df['days_to_collect'] = (df['deadline'] - df['launched']).dt.days\n",
    "df['days_to_collect'].head(5)"
   ]
  },
  {
   "cell_type": "markdown",
   "metadata": {},
   "source": [
    "### Average amount per day needed to reach the goal"
   ]
  },
  {
   "cell_type": "code",
   "execution_count": 52,
   "metadata": {
    "ExecuteTime": {
     "end_time": "2019-04-10T16:55:28.657543Z",
     "start_time": "2019-04-10T16:55:28.649925Z"
    }
   },
   "outputs": [],
   "source": [
    "# replace the inf values with 0 (0/something) = np.inf) \n",
    "df['usd_needed_per_day'] = (df['usd_goal_real'] / df['days_to_collect']).replace([np.inf, -np.inf], 0)"
   ]
  },
  {
   "cell_type": "markdown",
   "metadata": {},
   "source": [
    "### What are the different Kickstarter states?"
   ]
  },
  {
   "cell_type": "code",
   "execution_count": 53,
   "metadata": {
    "ExecuteTime": {
     "end_time": "2019-04-10T16:55:29.205358Z",
     "start_time": "2019-04-10T16:55:29.066232Z"
    }
   },
   "outputs": [
    {
     "data": {
      "text/html": [
       "<div>\n",
       "<style scoped>\n",
       "    .dataframe tbody tr th:only-of-type {\n",
       "        vertical-align: middle;\n",
       "    }\n",
       "\n",
       "    .dataframe tbody tr th {\n",
       "        vertical-align: top;\n",
       "    }\n",
       "\n",
       "    .dataframe thead th {\n",
       "        text-align: right;\n",
       "    }\n",
       "</style>\n",
       "<table border=\"1\" class=\"dataframe\">\n",
       "  <thead>\n",
       "    <tr style=\"text-align: right;\">\n",
       "      <th></th>\n",
       "      <th>name</th>\n",
       "      <th>category</th>\n",
       "      <th>main_category</th>\n",
       "      <th>currency</th>\n",
       "      <th>deadline</th>\n",
       "      <th>goal</th>\n",
       "      <th>launched</th>\n",
       "      <th>pledged</th>\n",
       "      <th>state</th>\n",
       "      <th>backers</th>\n",
       "      <th>country</th>\n",
       "      <th>usd pledged</th>\n",
       "      <th>usd_pledged_real</th>\n",
       "      <th>usd_goal_real</th>\n",
       "      <th>days_to_collect</th>\n",
       "      <th>usd_needed_per_day</th>\n",
       "    </tr>\n",
       "    <tr>\n",
       "      <th>ID</th>\n",
       "      <th></th>\n",
       "      <th></th>\n",
       "      <th></th>\n",
       "      <th></th>\n",
       "      <th></th>\n",
       "      <th></th>\n",
       "      <th></th>\n",
       "      <th></th>\n",
       "      <th></th>\n",
       "      <th></th>\n",
       "      <th></th>\n",
       "      <th></th>\n",
       "      <th></th>\n",
       "      <th></th>\n",
       "      <th></th>\n",
       "      <th></th>\n",
       "    </tr>\n",
       "  </thead>\n",
       "  <tbody>\n",
       "    <tr>\n",
       "      <th>1799979574</th>\n",
       "      <td>Pebble Time - Awesome Smartwatch, No Compromises</td>\n",
       "      <td>Product Design</td>\n",
       "      <td>Design</td>\n",
       "      <td>USD</td>\n",
       "      <td>2015-03-28</td>\n",
       "      <td>500000.0</td>\n",
       "      <td>2015-02-24 15:44:42</td>\n",
       "      <td>20338986.27</td>\n",
       "      <td>successful</td>\n",
       "      <td>78471</td>\n",
       "      <td>US</td>\n",
       "      <td>20338986.27</td>\n",
       "      <td>20338986.27</td>\n",
       "      <td>500000.00</td>\n",
       "      <td>31</td>\n",
       "      <td>16129.032258</td>\n",
       "    </tr>\n",
       "    <tr>\n",
       "      <th>342886736</th>\n",
       "      <td>COOLEST COOLER: 21st Century Cooler that's Act...</td>\n",
       "      <td>Product Design</td>\n",
       "      <td>Design</td>\n",
       "      <td>USD</td>\n",
       "      <td>2014-08-30</td>\n",
       "      <td>50000.0</td>\n",
       "      <td>2014-07-08 10:14:37</td>\n",
       "      <td>13285226.36</td>\n",
       "      <td>successful</td>\n",
       "      <td>62642</td>\n",
       "      <td>US</td>\n",
       "      <td>13285226.36</td>\n",
       "      <td>13285226.36</td>\n",
       "      <td>50000.00</td>\n",
       "      <td>52</td>\n",
       "      <td>961.538462</td>\n",
       "    </tr>\n",
       "    <tr>\n",
       "      <th>2103598555</th>\n",
       "      <td>Pebble 2, Time 2 + All-New Pebble Core</td>\n",
       "      <td>Product Design</td>\n",
       "      <td>Design</td>\n",
       "      <td>USD</td>\n",
       "      <td>2016-06-30</td>\n",
       "      <td>1000000.0</td>\n",
       "      <td>2016-05-24 15:49:52</td>\n",
       "      <td>12779843.49</td>\n",
       "      <td>successful</td>\n",
       "      <td>66673</td>\n",
       "      <td>US</td>\n",
       "      <td>12779843.49</td>\n",
       "      <td>12779843.49</td>\n",
       "      <td>1000000.00</td>\n",
       "      <td>36</td>\n",
       "      <td>27777.777778</td>\n",
       "    </tr>\n",
       "    <tr>\n",
       "      <th>506924864</th>\n",
       "      <td>Pebble: E-Paper Watch for iPhone and Android</td>\n",
       "      <td>Product Design</td>\n",
       "      <td>Design</td>\n",
       "      <td>USD</td>\n",
       "      <td>2012-05-19</td>\n",
       "      <td>100000.0</td>\n",
       "      <td>2012-04-11 06:59:04</td>\n",
       "      <td>10266845.74</td>\n",
       "      <td>successful</td>\n",
       "      <td>68929</td>\n",
       "      <td>US</td>\n",
       "      <td>10266845.74</td>\n",
       "      <td>10266845.74</td>\n",
       "      <td>100000.00</td>\n",
       "      <td>37</td>\n",
       "      <td>2702.702703</td>\n",
       "    </tr>\n",
       "    <tr>\n",
       "      <th>565687737</th>\n",
       "      <td>The World's Best TRAVEL JACKET with 15 Feature...</td>\n",
       "      <td>Product Design</td>\n",
       "      <td>Design</td>\n",
       "      <td>USD</td>\n",
       "      <td>2015-09-03</td>\n",
       "      <td>20000.0</td>\n",
       "      <td>2015-07-07 13:52:34</td>\n",
       "      <td>9192055.66</td>\n",
       "      <td>successful</td>\n",
       "      <td>44949</td>\n",
       "      <td>US</td>\n",
       "      <td>9192055.66</td>\n",
       "      <td>9192055.66</td>\n",
       "      <td>20000.00</td>\n",
       "      <td>57</td>\n",
       "      <td>350.877193</td>\n",
       "    </tr>\n",
       "    <tr>\n",
       "      <th>1955357092</th>\n",
       "      <td>Exploding Kittens</td>\n",
       "      <td>Tabletop Games</td>\n",
       "      <td>Games</td>\n",
       "      <td>USD</td>\n",
       "      <td>2015-02-20</td>\n",
       "      <td>10000.0</td>\n",
       "      <td>2015-01-20 19:00:19</td>\n",
       "      <td>8782571.99</td>\n",
       "      <td>successful</td>\n",
       "      <td>219382</td>\n",
       "      <td>US</td>\n",
       "      <td>8782571.99</td>\n",
       "      <td>8782571.99</td>\n",
       "      <td>10000.00</td>\n",
       "      <td>30</td>\n",
       "      <td>333.333333</td>\n",
       "    </tr>\n",
       "    <tr>\n",
       "      <th>1033978702</th>\n",
       "      <td>OUYA: A New Kind of Video Game Console</td>\n",
       "      <td>Gaming Hardware</td>\n",
       "      <td>Games</td>\n",
       "      <td>USD</td>\n",
       "      <td>2012-08-09</td>\n",
       "      <td>950000.0</td>\n",
       "      <td>2012-07-10 14:44:41</td>\n",
       "      <td>8596474.58</td>\n",
       "      <td>successful</td>\n",
       "      <td>63416</td>\n",
       "      <td>US</td>\n",
       "      <td>8596474.58</td>\n",
       "      <td>8596474.58</td>\n",
       "      <td>950000.00</td>\n",
       "      <td>29</td>\n",
       "      <td>32758.620690</td>\n",
       "    </tr>\n",
       "    <tr>\n",
       "      <th>947809001</th>\n",
       "      <td>Shenmue 3</td>\n",
       "      <td>Video Games</td>\n",
       "      <td>Games</td>\n",
       "      <td>USD</td>\n",
       "      <td>2015-07-18</td>\n",
       "      <td>2000000.0</td>\n",
       "      <td>2015-06-16 03:51:04</td>\n",
       "      <td>6333295.77</td>\n",
       "      <td>successful</td>\n",
       "      <td>69320</td>\n",
       "      <td>US</td>\n",
       "      <td>6333295.77</td>\n",
       "      <td>6333295.77</td>\n",
       "      <td>2000000.00</td>\n",
       "      <td>31</td>\n",
       "      <td>64516.129032</td>\n",
       "    </tr>\n",
       "    <tr>\n",
       "      <th>1152735261</th>\n",
       "      <td>Pono Music - Where Your Soul Rediscovers Music</td>\n",
       "      <td>Sound</td>\n",
       "      <td>Technology</td>\n",
       "      <td>USD</td>\n",
       "      <td>2014-04-15</td>\n",
       "      <td>800000.0</td>\n",
       "      <td>2014-03-11 18:30:42</td>\n",
       "      <td>6225354.98</td>\n",
       "      <td>successful</td>\n",
       "      <td>18220</td>\n",
       "      <td>US</td>\n",
       "      <td>6225354.98</td>\n",
       "      <td>6225354.98</td>\n",
       "      <td>800000.00</td>\n",
       "      <td>34</td>\n",
       "      <td>23529.411765</td>\n",
       "    </tr>\n",
       "    <tr>\n",
       "      <th>1454565733</th>\n",
       "      <td>Bring Back MYSTERY SCIENCE THEATER 3000</td>\n",
       "      <td>Television</td>\n",
       "      <td>Film &amp; Video</td>\n",
       "      <td>USD</td>\n",
       "      <td>2015-12-12</td>\n",
       "      <td>2000000.0</td>\n",
       "      <td>2015-11-10 16:49:32</td>\n",
       "      <td>5764229.38</td>\n",
       "      <td>successful</td>\n",
       "      <td>48270</td>\n",
       "      <td>US</td>\n",
       "      <td>5764229.38</td>\n",
       "      <td>5764229.38</td>\n",
       "      <td>2000000.00</td>\n",
       "      <td>31</td>\n",
       "      <td>64516.129032</td>\n",
       "    </tr>\n",
       "    <tr>\n",
       "      <th>1755266685</th>\n",
       "      <td>The Veronica Mars Movie Project</td>\n",
       "      <td>Narrative Film</td>\n",
       "      <td>Film &amp; Video</td>\n",
       "      <td>USD</td>\n",
       "      <td>2013-04-13</td>\n",
       "      <td>2000000.0</td>\n",
       "      <td>2013-03-13 15:42:22</td>\n",
       "      <td>5702153.38</td>\n",
       "      <td>successful</td>\n",
       "      <td>91585</td>\n",
       "      <td>US</td>\n",
       "      <td>5702153.38</td>\n",
       "      <td>5702153.38</td>\n",
       "      <td>2000000.00</td>\n",
       "      <td>30</td>\n",
       "      <td>66666.666667</td>\n",
       "    </tr>\n",
       "    <tr>\n",
       "      <th>1074800880</th>\n",
       "      <td>Bloodstained: Ritual of the Night</td>\n",
       "      <td>Video Games</td>\n",
       "      <td>Games</td>\n",
       "      <td>USD</td>\n",
       "      <td>2015-06-13</td>\n",
       "      <td>500000.0</td>\n",
       "      <td>2015-05-11 18:58:41</td>\n",
       "      <td>5545991.70</td>\n",
       "      <td>successful</td>\n",
       "      <td>64867</td>\n",
       "      <td>US</td>\n",
       "      <td>5545991.70</td>\n",
       "      <td>5545991.70</td>\n",
       "      <td>500000.00</td>\n",
       "      <td>32</td>\n",
       "      <td>15625.000000</td>\n",
       "    </tr>\n",
       "    <tr>\n",
       "      <th>557230947</th>\n",
       "      <td>Bring Reading Rainbow Back for Every Child, Ev...</td>\n",
       "      <td>Web</td>\n",
       "      <td>Technology</td>\n",
       "      <td>USD</td>\n",
       "      <td>2014-07-02</td>\n",
       "      <td>1000000.0</td>\n",
       "      <td>2014-05-28 15:05:45</td>\n",
       "      <td>5408916.95</td>\n",
       "      <td>successful</td>\n",
       "      <td>105857</td>\n",
       "      <td>US</td>\n",
       "      <td>5408916.95</td>\n",
       "      <td>5408916.95</td>\n",
       "      <td>1000000.00</td>\n",
       "      <td>34</td>\n",
       "      <td>29411.764706</td>\n",
       "    </tr>\n",
       "    <tr>\n",
       "      <th>606910105</th>\n",
       "      <td>Dark Souls™ - The Board Game</td>\n",
       "      <td>Tabletop Games</td>\n",
       "      <td>Games</td>\n",
       "      <td>GBP</td>\n",
       "      <td>2016-05-16</td>\n",
       "      <td>50000.0</td>\n",
       "      <td>2016-04-19 20:59:32</td>\n",
       "      <td>3771474.81</td>\n",
       "      <td>successful</td>\n",
       "      <td>31178</td>\n",
       "      <td>GB</td>\n",
       "      <td>5342789.07</td>\n",
       "      <td>5494492.81</td>\n",
       "      <td>72842.76</td>\n",
       "      <td>26</td>\n",
       "      <td>2801.644615</td>\n",
       "    </tr>\n",
       "    <tr>\n",
       "      <th>545070200</th>\n",
       "      <td>Kingdom Death: Monster 1.5</td>\n",
       "      <td>Tabletop Games</td>\n",
       "      <td>Games</td>\n",
       "      <td>USD</td>\n",
       "      <td>2017-01-08</td>\n",
       "      <td>100000.0</td>\n",
       "      <td>2016-11-25 06:01:41</td>\n",
       "      <td>12393139.69</td>\n",
       "      <td>successful</td>\n",
       "      <td>19264</td>\n",
       "      <td>US</td>\n",
       "      <td>5228482.00</td>\n",
       "      <td>12393139.69</td>\n",
       "      <td>100000.00</td>\n",
       "      <td>43</td>\n",
       "      <td>2325.581395</td>\n",
       "    </tr>\n",
       "    <tr>\n",
       "      <th>919996644</th>\n",
       "      <td>The Everyday Messenger: A Bag For Cameras &amp; Es...</td>\n",
       "      <td>Product Design</td>\n",
       "      <td>Design</td>\n",
       "      <td>USD</td>\n",
       "      <td>2015-09-21</td>\n",
       "      <td>100000.0</td>\n",
       "      <td>2015-07-23 00:04:24</td>\n",
       "      <td>4869472.20</td>\n",
       "      <td>successful</td>\n",
       "      <td>17029</td>\n",
       "      <td>US</td>\n",
       "      <td>4869472.20</td>\n",
       "      <td>4869472.20</td>\n",
       "      <td>100000.00</td>\n",
       "      <td>59</td>\n",
       "      <td>1694.915254</td>\n",
       "    </tr>\n",
       "    <tr>\n",
       "      <th>286165030</th>\n",
       "      <td>Torment: Tides of Numenera</td>\n",
       "      <td>Video Games</td>\n",
       "      <td>Games</td>\n",
       "      <td>USD</td>\n",
       "      <td>2013-04-06</td>\n",
       "      <td>900000.0</td>\n",
       "      <td>2013-03-06 14:47:37</td>\n",
       "      <td>4188927.49</td>\n",
       "      <td>successful</td>\n",
       "      <td>74405</td>\n",
       "      <td>US</td>\n",
       "      <td>4188927.49</td>\n",
       "      <td>4188927.49</td>\n",
       "      <td>900000.00</td>\n",
       "      <td>30</td>\n",
       "      <td>30000.000000</td>\n",
       "    </tr>\n",
       "    <tr>\n",
       "      <th>1045500705</th>\n",
       "      <td>Zombicide: Black Plague</td>\n",
       "      <td>Tabletop Games</td>\n",
       "      <td>Games</td>\n",
       "      <td>USD</td>\n",
       "      <td>2015-07-07</td>\n",
       "      <td>125000.0</td>\n",
       "      <td>2015-06-08 20:59:38</td>\n",
       "      <td>4079204.52</td>\n",
       "      <td>successful</td>\n",
       "      <td>20915</td>\n",
       "      <td>US</td>\n",
       "      <td>4079204.52</td>\n",
       "      <td>4079204.52</td>\n",
       "      <td>125000.00</td>\n",
       "      <td>28</td>\n",
       "      <td>4464.285714</td>\n",
       "    </tr>\n",
       "    <tr>\n",
       "      <th>458565935</th>\n",
       "      <td>Project Eternity</td>\n",
       "      <td>Video Games</td>\n",
       "      <td>Games</td>\n",
       "      <td>USD</td>\n",
       "      <td>2012-10-17</td>\n",
       "      <td>1100000.0</td>\n",
       "      <td>2012-09-14 19:01:04</td>\n",
       "      <td>3986929.49</td>\n",
       "      <td>successful</td>\n",
       "      <td>73986</td>\n",
       "      <td>US</td>\n",
       "      <td>3986929.49</td>\n",
       "      <td>3986929.49</td>\n",
       "      <td>1100000.00</td>\n",
       "      <td>32</td>\n",
       "      <td>34375.000000</td>\n",
       "    </tr>\n",
       "    <tr>\n",
       "      <th>564596765</th>\n",
       "      <td>Mighty No. 9</td>\n",
       "      <td>Video Games</td>\n",
       "      <td>Games</td>\n",
       "      <td>USD</td>\n",
       "      <td>2013-10-02</td>\n",
       "      <td>900000.0</td>\n",
       "      <td>2013-09-01 02:19:01</td>\n",
       "      <td>3845170.68</td>\n",
       "      <td>successful</td>\n",
       "      <td>67226</td>\n",
       "      <td>US</td>\n",
       "      <td>3845170.68</td>\n",
       "      <td>3845170.68</td>\n",
       "      <td>900000.00</td>\n",
       "      <td>30</td>\n",
       "      <td>30000.000000</td>\n",
       "    </tr>\n",
       "    <tr>\n",
       "      <th>499322084</th>\n",
       "      <td>ZANO - Autonomous. Intelligent. Swarming. Nano...</td>\n",
       "      <td>Technology</td>\n",
       "      <td>Technology</td>\n",
       "      <td>GBP</td>\n",
       "      <td>2015-01-08</td>\n",
       "      <td>125000.0</td>\n",
       "      <td>2014-11-24 16:38:38</td>\n",
       "      <td>2335119.61</td>\n",
       "      <td>successful</td>\n",
       "      <td>12075</td>\n",
       "      <td>GB</td>\n",
       "      <td>3656617.53</td>\n",
       "      <td>3536988.20</td>\n",
       "      <td>189336.56</td>\n",
       "      <td>44</td>\n",
       "      <td>4303.103636</td>\n",
       "    </tr>\n",
       "    <tr>\n",
       "      <th>132311747</th>\n",
       "      <td>Massive Darkness</td>\n",
       "      <td>Tabletop Games</td>\n",
       "      <td>Games</td>\n",
       "      <td>USD</td>\n",
       "      <td>2016-07-08</td>\n",
       "      <td>200000.0</td>\n",
       "      <td>2016-06-07 21:02:31</td>\n",
       "      <td>3560642.66</td>\n",
       "      <td>successful</td>\n",
       "      <td>22361</td>\n",
       "      <td>US</td>\n",
       "      <td>3560642.66</td>\n",
       "      <td>3560642.66</td>\n",
       "      <td>200000.00</td>\n",
       "      <td>30</td>\n",
       "      <td>6666.666667</td>\n",
       "    </tr>\n",
       "    <tr>\n",
       "      <th>768428035</th>\n",
       "      <td>Reaper Miniatures Bones: An Evolution Of Gamin...</td>\n",
       "      <td>Games</td>\n",
       "      <td>Games</td>\n",
       "      <td>USD</td>\n",
       "      <td>2012-08-26</td>\n",
       "      <td>30000.0</td>\n",
       "      <td>2012-07-24 01:03:12</td>\n",
       "      <td>3429235.52</td>\n",
       "      <td>successful</td>\n",
       "      <td>17744</td>\n",
       "      <td>US</td>\n",
       "      <td>3429235.52</td>\n",
       "      <td>3429235.52</td>\n",
       "      <td>30000.00</td>\n",
       "      <td>32</td>\n",
       "      <td>937.500000</td>\n",
       "    </tr>\n",
       "    <tr>\n",
       "      <th>1265992004</th>\n",
       "      <td>The Micro: The First Truly Consumer 3D Printer</td>\n",
       "      <td>3D Printing</td>\n",
       "      <td>Technology</td>\n",
       "      <td>USD</td>\n",
       "      <td>2014-05-07</td>\n",
       "      <td>50000.0</td>\n",
       "      <td>2014-04-07 14:45:46</td>\n",
       "      <td>3401361.08</td>\n",
       "      <td>successful</td>\n",
       "      <td>11855</td>\n",
       "      <td>US</td>\n",
       "      <td>3401361.08</td>\n",
       "      <td>3401361.08</td>\n",
       "      <td>50000.00</td>\n",
       "      <td>29</td>\n",
       "      <td>1724.137931</td>\n",
       "    </tr>\n",
       "    <tr>\n",
       "      <th>1855038253</th>\n",
       "      <td>The Dash – Wireless Smart In Ear Headphones</td>\n",
       "      <td>Product Design</td>\n",
       "      <td>Design</td>\n",
       "      <td>USD</td>\n",
       "      <td>2014-03-31</td>\n",
       "      <td>260000.0</td>\n",
       "      <td>2014-02-09 15:59:17</td>\n",
       "      <td>3390551.00</td>\n",
       "      <td>successful</td>\n",
       "      <td>15998</td>\n",
       "      <td>US</td>\n",
       "      <td>3390551.00</td>\n",
       "      <td>3390551.00</td>\n",
       "      <td>260000.00</td>\n",
       "      <td>49</td>\n",
       "      <td>5306.122449</td>\n",
       "    </tr>\n",
       "    <tr>\n",
       "      <th>1929840910</th>\n",
       "      <td>Double Fine Adventure</td>\n",
       "      <td>Video Games</td>\n",
       "      <td>Games</td>\n",
       "      <td>USD</td>\n",
       "      <td>2012-03-14</td>\n",
       "      <td>400000.0</td>\n",
       "      <td>2012-02-09 02:52:52</td>\n",
       "      <td>3336371.92</td>\n",
       "      <td>successful</td>\n",
       "      <td>87142</td>\n",
       "      <td>US</td>\n",
       "      <td>3336371.92</td>\n",
       "      <td>3336371.92</td>\n",
       "      <td>400000.00</td>\n",
       "      <td>33</td>\n",
       "      <td>12121.212121</td>\n",
       "    </tr>\n",
       "    <tr>\n",
       "      <th>838978564</th>\n",
       "      <td>Conan</td>\n",
       "      <td>Tabletop Games</td>\n",
       "      <td>Games</td>\n",
       "      <td>USD</td>\n",
       "      <td>2015-02-11</td>\n",
       "      <td>80000.0</td>\n",
       "      <td>2015-01-12 18:55:08</td>\n",
       "      <td>3327757.00</td>\n",
       "      <td>successful</td>\n",
       "      <td>16038</td>\n",
       "      <td>US</td>\n",
       "      <td>3327757.00</td>\n",
       "      <td>3327757.00</td>\n",
       "      <td>80000.00</td>\n",
       "      <td>29</td>\n",
       "      <td>2758.620690</td>\n",
       "    </tr>\n",
       "    <tr>\n",
       "      <th>1786171130</th>\n",
       "      <td>G-RO: Revolutionary Carry-on Luggage</td>\n",
       "      <td>Product Design</td>\n",
       "      <td>Design</td>\n",
       "      <td>USD</td>\n",
       "      <td>2015-12-13</td>\n",
       "      <td>125000.0</td>\n",
       "      <td>2015-10-14 19:00:05</td>\n",
       "      <td>3307773.49</td>\n",
       "      <td>successful</td>\n",
       "      <td>8744</td>\n",
       "      <td>US</td>\n",
       "      <td>3307773.49</td>\n",
       "      <td>3307773.49</td>\n",
       "      <td>125000.00</td>\n",
       "      <td>59</td>\n",
       "      <td>2118.644068</td>\n",
       "    </tr>\n",
       "    <tr>\n",
       "      <th>1494516688</th>\n",
       "      <td>Joking Hazard</td>\n",
       "      <td>Tabletop Games</td>\n",
       "      <td>Games</td>\n",
       "      <td>USD</td>\n",
       "      <td>2016-03-10</td>\n",
       "      <td>10000.0</td>\n",
       "      <td>2016-02-09 18:00:50</td>\n",
       "      <td>3246588.55</td>\n",
       "      <td>successful</td>\n",
       "      <td>63758</td>\n",
       "      <td>US</td>\n",
       "      <td>3246588.55</td>\n",
       "      <td>3246588.55</td>\n",
       "      <td>10000.00</td>\n",
       "      <td>29</td>\n",
       "      <td>344.827586</td>\n",
       "    </tr>\n",
       "    <tr>\n",
       "      <th>1194278206</th>\n",
       "      <td>Yooka-Laylee - A 3D Platformer Rare-vival!</td>\n",
       "      <td>Video Games</td>\n",
       "      <td>Games</td>\n",
       "      <td>GBP</td>\n",
       "      <td>2015-06-17</td>\n",
       "      <td>175000.0</td>\n",
       "      <td>2015-05-01 17:57:02</td>\n",
       "      <td>2090104.10</td>\n",
       "      <td>successful</td>\n",
       "      <td>73206</td>\n",
       "      <td>GB</td>\n",
       "      <td>3225225.40</td>\n",
       "      <td>3310374.26</td>\n",
       "      <td>277170.64</td>\n",
       "      <td>46</td>\n",
       "      <td>6025.448696</td>\n",
       "    </tr>\n",
       "    <tr>\n",
       "      <th>...</th>\n",
       "      <td>...</td>\n",
       "      <td>...</td>\n",
       "      <td>...</td>\n",
       "      <td>...</td>\n",
       "      <td>...</td>\n",
       "      <td>...</td>\n",
       "      <td>...</td>\n",
       "      <td>...</td>\n",
       "      <td>...</td>\n",
       "      <td>...</td>\n",
       "      <td>...</td>\n",
       "      <td>...</td>\n",
       "      <td>...</td>\n",
       "      <td>...</td>\n",
       "      <td>...</td>\n",
       "      <td>...</td>\n",
       "    </tr>\n",
       "    <tr>\n",
       "      <th>566129955</th>\n",
       "      <td>Edgar Allan</td>\n",
       "      <td>Music</td>\n",
       "      <td>Music</td>\n",
       "      <td>USD</td>\n",
       "      <td>2016-04-29</td>\n",
       "      <td>3000.0</td>\n",
       "      <td>2016-04-04 20:28:46</td>\n",
       "      <td>3425.00</td>\n",
       "      <td>successful</td>\n",
       "      <td>0</td>\n",
       "      <td>N,0\"</td>\n",
       "      <td>NaN</td>\n",
       "      <td>3425.00</td>\n",
       "      <td>3000.00</td>\n",
       "      <td>24</td>\n",
       "      <td>125.000000</td>\n",
       "    </tr>\n",
       "    <tr>\n",
       "      <th>568777516</th>\n",
       "      <td>'Southern Writer' - a new Record by Brian Pounds</td>\n",
       "      <td>Music</td>\n",
       "      <td>Music</td>\n",
       "      <td>USD</td>\n",
       "      <td>2016-05-20</td>\n",
       "      <td>8000.0</td>\n",
       "      <td>2016-04-15 18:15:18</td>\n",
       "      <td>8525.00</td>\n",
       "      <td>successful</td>\n",
       "      <td>0</td>\n",
       "      <td>N,0\"</td>\n",
       "      <td>NaN</td>\n",
       "      <td>8525.00</td>\n",
       "      <td>8000.00</td>\n",
       "      <td>34</td>\n",
       "      <td>235.294118</td>\n",
       "    </tr>\n",
       "    <tr>\n",
       "      <th>573365912</th>\n",
       "      <td>Truth BeTold</td>\n",
       "      <td>Music</td>\n",
       "      <td>Music</td>\n",
       "      <td>GBP</td>\n",
       "      <td>2016-05-12</td>\n",
       "      <td>1500.0</td>\n",
       "      <td>2016-04-12 12:56:11</td>\n",
       "      <td>2011.00</td>\n",
       "      <td>successful</td>\n",
       "      <td>0</td>\n",
       "      <td>N,0\"</td>\n",
       "      <td>NaN</td>\n",
       "      <td>2897.57</td>\n",
       "      <td>2161.29</td>\n",
       "      <td>29</td>\n",
       "      <td>74.527241</td>\n",
       "    </tr>\n",
       "    <tr>\n",
       "      <th>577662386</th>\n",
       "      <td>Kyle LaLone Solo EP</td>\n",
       "      <td>Music</td>\n",
       "      <td>Music</td>\n",
       "      <td>USD</td>\n",
       "      <td>2016-05-12</td>\n",
       "      <td>3000.0</td>\n",
       "      <td>2016-04-12 05:11:40</td>\n",
       "      <td>3070.00</td>\n",
       "      <td>successful</td>\n",
       "      <td>0</td>\n",
       "      <td>N,0\"</td>\n",
       "      <td>NaN</td>\n",
       "      <td>3070.00</td>\n",
       "      <td>3000.00</td>\n",
       "      <td>29</td>\n",
       "      <td>103.448276</td>\n",
       "    </tr>\n",
       "    <tr>\n",
       "      <th>610154753</th>\n",
       "      <td>'MIA 2 LAX' The Track Burnaz Debut EP</td>\n",
       "      <td>Music</td>\n",
       "      <td>Music</td>\n",
       "      <td>USD</td>\n",
       "      <td>2016-05-08</td>\n",
       "      <td>2000.0</td>\n",
       "      <td>2016-04-08 10:07:43</td>\n",
       "      <td>2452.00</td>\n",
       "      <td>successful</td>\n",
       "      <td>0</td>\n",
       "      <td>N,0\"</td>\n",
       "      <td>NaN</td>\n",
       "      <td>2452.00</td>\n",
       "      <td>2000.00</td>\n",
       "      <td>29</td>\n",
       "      <td>68.965517</td>\n",
       "    </tr>\n",
       "    <tr>\n",
       "      <th>611083586</th>\n",
       "      <td>Flannel Graph - The People We Were EP</td>\n",
       "      <td>Music</td>\n",
       "      <td>Music</td>\n",
       "      <td>USD</td>\n",
       "      <td>2016-05-25</td>\n",
       "      <td>5000.0</td>\n",
       "      <td>2016-05-07 01:06:02</td>\n",
       "      <td>5668.00</td>\n",
       "      <td>successful</td>\n",
       "      <td>0</td>\n",
       "      <td>N,0\"</td>\n",
       "      <td>NaN</td>\n",
       "      <td>5668.00</td>\n",
       "      <td>5000.00</td>\n",
       "      <td>17</td>\n",
       "      <td>294.117647</td>\n",
       "    </tr>\n",
       "    <tr>\n",
       "      <th>617632903</th>\n",
       "      <td>Cali Wilson: The First EP</td>\n",
       "      <td>Music</td>\n",
       "      <td>Music</td>\n",
       "      <td>USD</td>\n",
       "      <td>2016-05-03</td>\n",
       "      <td>4000.0</td>\n",
       "      <td>2016-03-04 01:26:26</td>\n",
       "      <td>5810.00</td>\n",
       "      <td>successful</td>\n",
       "      <td>0</td>\n",
       "      <td>N,0\"</td>\n",
       "      <td>NaN</td>\n",
       "      <td>5810.00</td>\n",
       "      <td>4000.00</td>\n",
       "      <td>59</td>\n",
       "      <td>67.796610</td>\n",
       "    </tr>\n",
       "    <tr>\n",
       "      <th>628318669</th>\n",
       "      <td>Meekoh // Fire and Diamonds</td>\n",
       "      <td>Music</td>\n",
       "      <td>Music</td>\n",
       "      <td>USD</td>\n",
       "      <td>2016-05-18</td>\n",
       "      <td>4000.0</td>\n",
       "      <td>2016-05-03 02:43:13</td>\n",
       "      <td>4161.00</td>\n",
       "      <td>successful</td>\n",
       "      <td>0</td>\n",
       "      <td>N,0\"</td>\n",
       "      <td>NaN</td>\n",
       "      <td>4161.00</td>\n",
       "      <td>4000.00</td>\n",
       "      <td>14</td>\n",
       "      <td>285.714286</td>\n",
       "    </tr>\n",
       "    <tr>\n",
       "      <th>634327860</th>\n",
       "      <td>\"To New Beginnings\" CD fund &amp; My Heart Tour</td>\n",
       "      <td>Music</td>\n",
       "      <td>Music</td>\n",
       "      <td>USD</td>\n",
       "      <td>2016-05-01</td>\n",
       "      <td>7000.0</td>\n",
       "      <td>2016-03-02 22:39:12</td>\n",
       "      <td>7286.00</td>\n",
       "      <td>successful</td>\n",
       "      <td>0</td>\n",
       "      <td>N,0\"</td>\n",
       "      <td>NaN</td>\n",
       "      <td>7286.00</td>\n",
       "      <td>7000.00</td>\n",
       "      <td>59</td>\n",
       "      <td>118.644068</td>\n",
       "    </tr>\n",
       "    <tr>\n",
       "      <th>645829934</th>\n",
       "      <td>IFs... a new album from 'UNA</td>\n",
       "      <td>Music</td>\n",
       "      <td>Music</td>\n",
       "      <td>GBP</td>\n",
       "      <td>2016-05-19</td>\n",
       "      <td>3000.0</td>\n",
       "      <td>2016-04-19 15:04:19</td>\n",
       "      <td>3129.00</td>\n",
       "      <td>successful</td>\n",
       "      <td>0</td>\n",
       "      <td>N,0\"</td>\n",
       "      <td>NaN</td>\n",
       "      <td>4558.50</td>\n",
       "      <td>4370.57</td>\n",
       "      <td>29</td>\n",
       "      <td>150.709310</td>\n",
       "    </tr>\n",
       "    <tr>\n",
       "      <th>670047018</th>\n",
       "      <td>Wonderland, The Album</td>\n",
       "      <td>Music</td>\n",
       "      <td>Music</td>\n",
       "      <td>GBP</td>\n",
       "      <td>2016-05-05</td>\n",
       "      <td>1500.0</td>\n",
       "      <td>2016-04-05 11:56:16</td>\n",
       "      <td>2311.00</td>\n",
       "      <td>successful</td>\n",
       "      <td>0</td>\n",
       "      <td>N,0\"</td>\n",
       "      <td>NaN</td>\n",
       "      <td>3349.13</td>\n",
       "      <td>2173.82</td>\n",
       "      <td>29</td>\n",
       "      <td>74.959310</td>\n",
       "    </tr>\n",
       "    <tr>\n",
       "      <th>685752214</th>\n",
       "      <td>Tizmoret's 20th Year Album : \"Score\"</td>\n",
       "      <td>Music</td>\n",
       "      <td>Music</td>\n",
       "      <td>USD</td>\n",
       "      <td>2016-05-31</td>\n",
       "      <td>5000.0</td>\n",
       "      <td>2016-05-02 04:07:09</td>\n",
       "      <td>5427.00</td>\n",
       "      <td>successful</td>\n",
       "      <td>0</td>\n",
       "      <td>N,0\"</td>\n",
       "      <td>NaN</td>\n",
       "      <td>5427.00</td>\n",
       "      <td>5000.00</td>\n",
       "      <td>28</td>\n",
       "      <td>178.571429</td>\n",
       "    </tr>\n",
       "    <tr>\n",
       "      <th>691025940</th>\n",
       "      <td>Legacy: 20 years of Solo Guitar</td>\n",
       "      <td>Music</td>\n",
       "      <td>Music</td>\n",
       "      <td>USD</td>\n",
       "      <td>2013-04-07</td>\n",
       "      <td>2400.0</td>\n",
       "      <td>2013-03-08 15:14:22</td>\n",
       "      <td>3185.00</td>\n",
       "      <td>successful</td>\n",
       "      <td>0</td>\n",
       "      <td>N,0\"</td>\n",
       "      <td>NaN</td>\n",
       "      <td>3185.00</td>\n",
       "      <td>2400.00</td>\n",
       "      <td>29</td>\n",
       "      <td>82.758621</td>\n",
       "    </tr>\n",
       "    <tr>\n",
       "      <th>692571317</th>\n",
       "      <td>Tragic Black \"Nostalgia\" New CD &amp; Merch Pre-Order</td>\n",
       "      <td>Music</td>\n",
       "      <td>Music</td>\n",
       "      <td>USD</td>\n",
       "      <td>2016-05-20</td>\n",
       "      <td>2000.0</td>\n",
       "      <td>2016-04-18 05:14:27</td>\n",
       "      <td>2186.00</td>\n",
       "      <td>successful</td>\n",
       "      <td>0</td>\n",
       "      <td>N,0\"</td>\n",
       "      <td>NaN</td>\n",
       "      <td>2186.00</td>\n",
       "      <td>2000.00</td>\n",
       "      <td>31</td>\n",
       "      <td>64.516129</td>\n",
       "    </tr>\n",
       "    <tr>\n",
       "      <th>693701534</th>\n",
       "      <td>Jazzvengers Assemble! Help us launch our YouTu...</td>\n",
       "      <td>Music</td>\n",
       "      <td>Music</td>\n",
       "      <td>USD</td>\n",
       "      <td>2016-04-28</td>\n",
       "      <td>1500.0</td>\n",
       "      <td>2016-04-12 06:12:25</td>\n",
       "      <td>1670.00</td>\n",
       "      <td>successful</td>\n",
       "      <td>0</td>\n",
       "      <td>N,0\"</td>\n",
       "      <td>NaN</td>\n",
       "      <td>1670.00</td>\n",
       "      <td>1500.00</td>\n",
       "      <td>15</td>\n",
       "      <td>100.000000</td>\n",
       "    </tr>\n",
       "    <tr>\n",
       "      <th>715827259</th>\n",
       "      <td>Jes Spires Music Recording Project and Album R...</td>\n",
       "      <td>Music</td>\n",
       "      <td>Music</td>\n",
       "      <td>USD</td>\n",
       "      <td>2016-05-30</td>\n",
       "      <td>2000.0</td>\n",
       "      <td>2016-04-30 20:00:00</td>\n",
       "      <td>2060.00</td>\n",
       "      <td>successful</td>\n",
       "      <td>0</td>\n",
       "      <td>N,0\"</td>\n",
       "      <td>NaN</td>\n",
       "      <td>2060.00</td>\n",
       "      <td>2000.00</td>\n",
       "      <td>29</td>\n",
       "      <td>68.965517</td>\n",
       "    </tr>\n",
       "    <tr>\n",
       "      <th>721338336</th>\n",
       "      <td>Applegate Trails Association Thru-Hike Film</td>\n",
       "      <td>Film &amp; Video</td>\n",
       "      <td>Film &amp; Video</td>\n",
       "      <td>USD</td>\n",
       "      <td>2016-05-21</td>\n",
       "      <td>6000.0</td>\n",
       "      <td>2016-04-21 05:30:46</td>\n",
       "      <td>6525.60</td>\n",
       "      <td>successful</td>\n",
       "      <td>0</td>\n",
       "      <td>N,0\"</td>\n",
       "      <td>NaN</td>\n",
       "      <td>6525.60</td>\n",
       "      <td>6000.00</td>\n",
       "      <td>29</td>\n",
       "      <td>206.896552</td>\n",
       "    </tr>\n",
       "    <tr>\n",
       "      <th>723130569</th>\n",
       "      <td>The Dream Room Project : A Solar Mobile Record...</td>\n",
       "      <td>Music</td>\n",
       "      <td>Music</td>\n",
       "      <td>USD</td>\n",
       "      <td>2016-04-29</td>\n",
       "      <td>7000.0</td>\n",
       "      <td>2016-03-30 20:14:45</td>\n",
       "      <td>8025.00</td>\n",
       "      <td>successful</td>\n",
       "      <td>0</td>\n",
       "      <td>N,0\"</td>\n",
       "      <td>NaN</td>\n",
       "      <td>8025.00</td>\n",
       "      <td>7000.00</td>\n",
       "      <td>29</td>\n",
       "      <td>241.379310</td>\n",
       "    </tr>\n",
       "    <tr>\n",
       "      <th>793819587</th>\n",
       "      <td>Crystal Bowls, Mantra, and Meditation- Soulful...</td>\n",
       "      <td>Music</td>\n",
       "      <td>Music</td>\n",
       "      <td>USD</td>\n",
       "      <td>2016-04-25</td>\n",
       "      <td>5500.0</td>\n",
       "      <td>2016-03-25 06:44:28</td>\n",
       "      <td>5514.00</td>\n",
       "      <td>successful</td>\n",
       "      <td>0</td>\n",
       "      <td>N,0\"</td>\n",
       "      <td>NaN</td>\n",
       "      <td>5514.00</td>\n",
       "      <td>5500.00</td>\n",
       "      <td>30</td>\n",
       "      <td>183.333333</td>\n",
       "    </tr>\n",
       "    <tr>\n",
       "      <th>808183588</th>\n",
       "      <td>Before the Bright Lights, Take Two!</td>\n",
       "      <td>Music</td>\n",
       "      <td>Music</td>\n",
       "      <td>USD</td>\n",
       "      <td>2016-05-28</td>\n",
       "      <td>3795.0</td>\n",
       "      <td>2016-05-20 21:01:56</td>\n",
       "      <td>4497.00</td>\n",
       "      <td>successful</td>\n",
       "      <td>0</td>\n",
       "      <td>N,0\"</td>\n",
       "      <td>NaN</td>\n",
       "      <td>4497.00</td>\n",
       "      <td>3795.00</td>\n",
       "      <td>7</td>\n",
       "      <td>542.142857</td>\n",
       "    </tr>\n",
       "    <tr>\n",
       "      <th>823779197</th>\n",
       "      <td>Ever Heard the Contrabass Flute?</td>\n",
       "      <td>Music</td>\n",
       "      <td>Music</td>\n",
       "      <td>EUR</td>\n",
       "      <td>2016-05-07</td>\n",
       "      <td>5500.0</td>\n",
       "      <td>2016-04-07 23:24:41</td>\n",
       "      <td>5955.00</td>\n",
       "      <td>successful</td>\n",
       "      <td>0</td>\n",
       "      <td>N,0\"</td>\n",
       "      <td>NaN</td>\n",
       "      <td>6757.75</td>\n",
       "      <td>6241.42</td>\n",
       "      <td>29</td>\n",
       "      <td>215.221379</td>\n",
       "    </tr>\n",
       "    <tr>\n",
       "      <th>826085967</th>\n",
       "      <td>We Are Mermaids</td>\n",
       "      <td>Film &amp; Video</td>\n",
       "      <td>Film &amp; Video</td>\n",
       "      <td>USD</td>\n",
       "      <td>2016-05-12</td>\n",
       "      <td>1500.0</td>\n",
       "      <td>2016-04-12 19:21:59</td>\n",
       "      <td>1500.00</td>\n",
       "      <td>successful</td>\n",
       "      <td>0</td>\n",
       "      <td>N,0\"</td>\n",
       "      <td>NaN</td>\n",
       "      <td>1500.00</td>\n",
       "      <td>1500.00</td>\n",
       "      <td>29</td>\n",
       "      <td>51.724138</td>\n",
       "    </tr>\n",
       "    <tr>\n",
       "      <th>84711701</th>\n",
       "      <td>Newburgh: Beauty and Tragedy</td>\n",
       "      <td>Film &amp; Video</td>\n",
       "      <td>Film &amp; Video</td>\n",
       "      <td>USD</td>\n",
       "      <td>2016-05-12</td>\n",
       "      <td>7500.0</td>\n",
       "      <td>2016-04-07 15:35:33</td>\n",
       "      <td>7623.00</td>\n",
       "      <td>successful</td>\n",
       "      <td>0</td>\n",
       "      <td>N,0\"</td>\n",
       "      <td>NaN</td>\n",
       "      <td>7623.00</td>\n",
       "      <td>7500.00</td>\n",
       "      <td>34</td>\n",
       "      <td>220.588235</td>\n",
       "    </tr>\n",
       "    <tr>\n",
       "      <th>854648390</th>\n",
       "      <td>Crystal Radio, Vinyl, Wooden Record, Playing C...</td>\n",
       "      <td>Music</td>\n",
       "      <td>Music</td>\n",
       "      <td>USD</td>\n",
       "      <td>2016-04-26</td>\n",
       "      <td>6500.0</td>\n",
       "      <td>2016-03-17 20:04:13</td>\n",
       "      <td>8889.00</td>\n",
       "      <td>successful</td>\n",
       "      <td>0</td>\n",
       "      <td>N,0\"</td>\n",
       "      <td>NaN</td>\n",
       "      <td>8889.00</td>\n",
       "      <td>6500.00</td>\n",
       "      <td>39</td>\n",
       "      <td>166.666667</td>\n",
       "    </tr>\n",
       "    <tr>\n",
       "      <th>906504187</th>\n",
       "      <td>The Springtails are making a new record!</td>\n",
       "      <td>Music</td>\n",
       "      <td>Music</td>\n",
       "      <td>USD</td>\n",
       "      <td>2016-05-31</td>\n",
       "      <td>3500.0</td>\n",
       "      <td>2016-05-01 19:40:30</td>\n",
       "      <td>3646.00</td>\n",
       "      <td>successful</td>\n",
       "      <td>0</td>\n",
       "      <td>N,0\"</td>\n",
       "      <td>NaN</td>\n",
       "      <td>3646.00</td>\n",
       "      <td>3500.00</td>\n",
       "      <td>29</td>\n",
       "      <td>120.689655</td>\n",
       "    </tr>\n",
       "    <tr>\n",
       "      <th>944349765</th>\n",
       "      <td>WSU Chorale's 2013 Italy Concert Tour: An A Ca...</td>\n",
       "      <td>Music</td>\n",
       "      <td>Music</td>\n",
       "      <td>USD</td>\n",
       "      <td>2013-04-11</td>\n",
       "      <td>2500.0</td>\n",
       "      <td>2013-03-12 20:03:33</td>\n",
       "      <td>2780.00</td>\n",
       "      <td>successful</td>\n",
       "      <td>0</td>\n",
       "      <td>N,0\"</td>\n",
       "      <td>NaN</td>\n",
       "      <td>2780.00</td>\n",
       "      <td>2500.00</td>\n",
       "      <td>29</td>\n",
       "      <td>86.206897</td>\n",
       "    </tr>\n",
       "    <tr>\n",
       "      <th>948175095</th>\n",
       "      <td>Typewriter John and the Blue Strings Debut EP</td>\n",
       "      <td>Music</td>\n",
       "      <td>Music</td>\n",
       "      <td>USD</td>\n",
       "      <td>2016-04-29</td>\n",
       "      <td>2500.0</td>\n",
       "      <td>2016-03-30 17:23:28</td>\n",
       "      <td>2560.00</td>\n",
       "      <td>successful</td>\n",
       "      <td>0</td>\n",
       "      <td>N,0\"</td>\n",
       "      <td>NaN</td>\n",
       "      <td>2560.00</td>\n",
       "      <td>2500.00</td>\n",
       "      <td>29</td>\n",
       "      <td>86.206897</td>\n",
       "    </tr>\n",
       "    <tr>\n",
       "      <th>949209229</th>\n",
       "      <td>Be A Catalyst!!!! Help Casey Clark make a name...</td>\n",
       "      <td>Music</td>\n",
       "      <td>Music</td>\n",
       "      <td>USD</td>\n",
       "      <td>2016-05-24</td>\n",
       "      <td>8000.0</td>\n",
       "      <td>2016-03-25 03:54:04</td>\n",
       "      <td>9625.00</td>\n",
       "      <td>successful</td>\n",
       "      <td>0</td>\n",
       "      <td>N,0\"</td>\n",
       "      <td>NaN</td>\n",
       "      <td>9625.00</td>\n",
       "      <td>8000.00</td>\n",
       "      <td>59</td>\n",
       "      <td>135.593220</td>\n",
       "    </tr>\n",
       "    <tr>\n",
       "      <th>967557880</th>\n",
       "      <td>Help Danelle Finish Her First EP Album</td>\n",
       "      <td>Music</td>\n",
       "      <td>Music</td>\n",
       "      <td>USD</td>\n",
       "      <td>2016-04-28</td>\n",
       "      <td>3500.0</td>\n",
       "      <td>2016-04-05 18:56:21</td>\n",
       "      <td>3686.00</td>\n",
       "      <td>successful</td>\n",
       "      <td>0</td>\n",
       "      <td>N,0\"</td>\n",
       "      <td>NaN</td>\n",
       "      <td>3686.00</td>\n",
       "      <td>3500.00</td>\n",
       "      <td>22</td>\n",
       "      <td>159.090909</td>\n",
       "    </tr>\n",
       "    <tr>\n",
       "      <th>997793413</th>\n",
       "      <td>Whisper Violet - Honors Senior Thesis Film</td>\n",
       "      <td>Film &amp; Video</td>\n",
       "      <td>Film &amp; Video</td>\n",
       "      <td>USD</td>\n",
       "      <td>2016-05-14</td>\n",
       "      <td>2000.0</td>\n",
       "      <td>2016-04-14 01:27:27</td>\n",
       "      <td>2300.00</td>\n",
       "      <td>successful</td>\n",
       "      <td>0</td>\n",
       "      <td>N,0\"</td>\n",
       "      <td>NaN</td>\n",
       "      <td>2300.00</td>\n",
       "      <td>2000.00</td>\n",
       "      <td>29</td>\n",
       "      <td>68.965517</td>\n",
       "    </tr>\n",
       "  </tbody>\n",
       "</table>\n",
       "<p>133956 rows × 16 columns</p>\n",
       "</div>"
      ],
      "text/plain": [
       "                                                         name  \\\n",
       "ID                                                              \n",
       "1799979574   Pebble Time - Awesome Smartwatch, No Compromises   \n",
       "342886736   COOLEST COOLER: 21st Century Cooler that's Act...   \n",
       "2103598555             Pebble 2, Time 2 + All-New Pebble Core   \n",
       "506924864        Pebble: E-Paper Watch for iPhone and Android   \n",
       "565687737   The World's Best TRAVEL JACKET with 15 Feature...   \n",
       "1955357092                                  Exploding Kittens   \n",
       "1033978702             OUYA: A New Kind of Video Game Console   \n",
       "947809001                                           Shenmue 3   \n",
       "1152735261     Pono Music - Where Your Soul Rediscovers Music   \n",
       "1454565733            Bring Back MYSTERY SCIENCE THEATER 3000   \n",
       "1755266685                    The Veronica Mars Movie Project   \n",
       "1074800880                  Bloodstained: Ritual of the Night   \n",
       "557230947   Bring Reading Rainbow Back for Every Child, Ev...   \n",
       "606910105                        Dark Souls™ - The Board Game   \n",
       "545070200                          Kingdom Death: Monster 1.5   \n",
       "919996644   The Everyday Messenger: A Bag For Cameras & Es...   \n",
       "286165030                          Torment: Tides of Numenera   \n",
       "1045500705                            Zombicide: Black Plague   \n",
       "458565935                                    Project Eternity   \n",
       "564596765                                        Mighty No. 9   \n",
       "499322084   ZANO - Autonomous. Intelligent. Swarming. Nano...   \n",
       "132311747                                    Massive Darkness   \n",
       "768428035   Reaper Miniatures Bones: An Evolution Of Gamin...   \n",
       "1265992004     The Micro: The First Truly Consumer 3D Printer   \n",
       "1855038253        The Dash – Wireless Smart In Ear Headphones   \n",
       "1929840910                              Double Fine Adventure   \n",
       "838978564                                               Conan   \n",
       "1786171130               G-RO: Revolutionary Carry-on Luggage   \n",
       "1494516688                                      Joking Hazard   \n",
       "1194278206         Yooka-Laylee - A 3D Platformer Rare-vival!   \n",
       "...                                                       ...   \n",
       "566129955                                         Edgar Allan   \n",
       "568777516    'Southern Writer' - a new Record by Brian Pounds   \n",
       "573365912                                        Truth BeTold   \n",
       "577662386                                 Kyle LaLone Solo EP   \n",
       "610154753               'MIA 2 LAX' The Track Burnaz Debut EP   \n",
       "611083586               Flannel Graph - The People We Were EP   \n",
       "617632903                           Cali Wilson: The First EP   \n",
       "628318669                         Meekoh // Fire and Diamonds   \n",
       "634327860         \"To New Beginnings\" CD fund & My Heart Tour   \n",
       "645829934                        IFs... a new album from 'UNA   \n",
       "670047018                               Wonderland, The Album   \n",
       "685752214                Tizmoret's 20th Year Album : \"Score\"   \n",
       "691025940                     Legacy: 20 years of Solo Guitar   \n",
       "692571317   Tragic Black \"Nostalgia\" New CD & Merch Pre-Order   \n",
       "693701534   Jazzvengers Assemble! Help us launch our YouTu...   \n",
       "715827259   Jes Spires Music Recording Project and Album R...   \n",
       "721338336         Applegate Trails Association Thru-Hike Film   \n",
       "723130569   The Dream Room Project : A Solar Mobile Record...   \n",
       "793819587   Crystal Bowls, Mantra, and Meditation- Soulful...   \n",
       "808183588                 Before the Bright Lights, Take Two!   \n",
       "823779197                    Ever Heard the Contrabass Flute?   \n",
       "826085967                                     We Are Mermaids   \n",
       "84711701                         Newburgh: Beauty and Tragedy   \n",
       "854648390   Crystal Radio, Vinyl, Wooden Record, Playing C...   \n",
       "906504187            The Springtails are making a new record!   \n",
       "944349765   WSU Chorale's 2013 Italy Concert Tour: An A Ca...   \n",
       "948175095       Typewriter John and the Blue Strings Debut EP   \n",
       "949209229   Be A Catalyst!!!! Help Casey Clark make a name...   \n",
       "967557880              Help Danelle Finish Her First EP Album   \n",
       "997793413          Whisper Violet - Honors Senior Thesis Film   \n",
       "\n",
       "                   category main_category currency   deadline       goal  \\\n",
       "ID                                                                         \n",
       "1799979574   Product Design        Design      USD 2015-03-28   500000.0   \n",
       "342886736    Product Design        Design      USD 2014-08-30    50000.0   \n",
       "2103598555   Product Design        Design      USD 2016-06-30  1000000.0   \n",
       "506924864    Product Design        Design      USD 2012-05-19   100000.0   \n",
       "565687737    Product Design        Design      USD 2015-09-03    20000.0   \n",
       "1955357092   Tabletop Games         Games      USD 2015-02-20    10000.0   \n",
       "1033978702  Gaming Hardware         Games      USD 2012-08-09   950000.0   \n",
       "947809001       Video Games         Games      USD 2015-07-18  2000000.0   \n",
       "1152735261            Sound    Technology      USD 2014-04-15   800000.0   \n",
       "1454565733       Television  Film & Video      USD 2015-12-12  2000000.0   \n",
       "1755266685   Narrative Film  Film & Video      USD 2013-04-13  2000000.0   \n",
       "1074800880      Video Games         Games      USD 2015-06-13   500000.0   \n",
       "557230947               Web    Technology      USD 2014-07-02  1000000.0   \n",
       "606910105    Tabletop Games         Games      GBP 2016-05-16    50000.0   \n",
       "545070200    Tabletop Games         Games      USD 2017-01-08   100000.0   \n",
       "919996644    Product Design        Design      USD 2015-09-21   100000.0   \n",
       "286165030       Video Games         Games      USD 2013-04-06   900000.0   \n",
       "1045500705   Tabletop Games         Games      USD 2015-07-07   125000.0   \n",
       "458565935       Video Games         Games      USD 2012-10-17  1100000.0   \n",
       "564596765       Video Games         Games      USD 2013-10-02   900000.0   \n",
       "499322084        Technology    Technology      GBP 2015-01-08   125000.0   \n",
       "132311747    Tabletop Games         Games      USD 2016-07-08   200000.0   \n",
       "768428035             Games         Games      USD 2012-08-26    30000.0   \n",
       "1265992004      3D Printing    Technology      USD 2014-05-07    50000.0   \n",
       "1855038253   Product Design        Design      USD 2014-03-31   260000.0   \n",
       "1929840910      Video Games         Games      USD 2012-03-14   400000.0   \n",
       "838978564    Tabletop Games         Games      USD 2015-02-11    80000.0   \n",
       "1786171130   Product Design        Design      USD 2015-12-13   125000.0   \n",
       "1494516688   Tabletop Games         Games      USD 2016-03-10    10000.0   \n",
       "1194278206      Video Games         Games      GBP 2015-06-17   175000.0   \n",
       "...                     ...           ...      ...        ...        ...   \n",
       "566129955             Music         Music      USD 2016-04-29     3000.0   \n",
       "568777516             Music         Music      USD 2016-05-20     8000.0   \n",
       "573365912             Music         Music      GBP 2016-05-12     1500.0   \n",
       "577662386             Music         Music      USD 2016-05-12     3000.0   \n",
       "610154753             Music         Music      USD 2016-05-08     2000.0   \n",
       "611083586             Music         Music      USD 2016-05-25     5000.0   \n",
       "617632903             Music         Music      USD 2016-05-03     4000.0   \n",
       "628318669             Music         Music      USD 2016-05-18     4000.0   \n",
       "634327860             Music         Music      USD 2016-05-01     7000.0   \n",
       "645829934             Music         Music      GBP 2016-05-19     3000.0   \n",
       "670047018             Music         Music      GBP 2016-05-05     1500.0   \n",
       "685752214             Music         Music      USD 2016-05-31     5000.0   \n",
       "691025940             Music         Music      USD 2013-04-07     2400.0   \n",
       "692571317             Music         Music      USD 2016-05-20     2000.0   \n",
       "693701534             Music         Music      USD 2016-04-28     1500.0   \n",
       "715827259             Music         Music      USD 2016-05-30     2000.0   \n",
       "721338336      Film & Video  Film & Video      USD 2016-05-21     6000.0   \n",
       "723130569             Music         Music      USD 2016-04-29     7000.0   \n",
       "793819587             Music         Music      USD 2016-04-25     5500.0   \n",
       "808183588             Music         Music      USD 2016-05-28     3795.0   \n",
       "823779197             Music         Music      EUR 2016-05-07     5500.0   \n",
       "826085967      Film & Video  Film & Video      USD 2016-05-12     1500.0   \n",
       "84711701       Film & Video  Film & Video      USD 2016-05-12     7500.0   \n",
       "854648390             Music         Music      USD 2016-04-26     6500.0   \n",
       "906504187             Music         Music      USD 2016-05-31     3500.0   \n",
       "944349765             Music         Music      USD 2013-04-11     2500.0   \n",
       "948175095             Music         Music      USD 2016-04-29     2500.0   \n",
       "949209229             Music         Music      USD 2016-05-24     8000.0   \n",
       "967557880             Music         Music      USD 2016-04-28     3500.0   \n",
       "997793413      Film & Video  Film & Video      USD 2016-05-14     2000.0   \n",
       "\n",
       "                      launched      pledged       state  backers country  \\\n",
       "ID                                                                         \n",
       "1799979574 2015-02-24 15:44:42  20338986.27  successful    78471      US   \n",
       "342886736  2014-07-08 10:14:37  13285226.36  successful    62642      US   \n",
       "2103598555 2016-05-24 15:49:52  12779843.49  successful    66673      US   \n",
       "506924864  2012-04-11 06:59:04  10266845.74  successful    68929      US   \n",
       "565687737  2015-07-07 13:52:34   9192055.66  successful    44949      US   \n",
       "1955357092 2015-01-20 19:00:19   8782571.99  successful   219382      US   \n",
       "1033978702 2012-07-10 14:44:41   8596474.58  successful    63416      US   \n",
       "947809001  2015-06-16 03:51:04   6333295.77  successful    69320      US   \n",
       "1152735261 2014-03-11 18:30:42   6225354.98  successful    18220      US   \n",
       "1454565733 2015-11-10 16:49:32   5764229.38  successful    48270      US   \n",
       "1755266685 2013-03-13 15:42:22   5702153.38  successful    91585      US   \n",
       "1074800880 2015-05-11 18:58:41   5545991.70  successful    64867      US   \n",
       "557230947  2014-05-28 15:05:45   5408916.95  successful   105857      US   \n",
       "606910105  2016-04-19 20:59:32   3771474.81  successful    31178      GB   \n",
       "545070200  2016-11-25 06:01:41  12393139.69  successful    19264      US   \n",
       "919996644  2015-07-23 00:04:24   4869472.20  successful    17029      US   \n",
       "286165030  2013-03-06 14:47:37   4188927.49  successful    74405      US   \n",
       "1045500705 2015-06-08 20:59:38   4079204.52  successful    20915      US   \n",
       "458565935  2012-09-14 19:01:04   3986929.49  successful    73986      US   \n",
       "564596765  2013-09-01 02:19:01   3845170.68  successful    67226      US   \n",
       "499322084  2014-11-24 16:38:38   2335119.61  successful    12075      GB   \n",
       "132311747  2016-06-07 21:02:31   3560642.66  successful    22361      US   \n",
       "768428035  2012-07-24 01:03:12   3429235.52  successful    17744      US   \n",
       "1265992004 2014-04-07 14:45:46   3401361.08  successful    11855      US   \n",
       "1855038253 2014-02-09 15:59:17   3390551.00  successful    15998      US   \n",
       "1929840910 2012-02-09 02:52:52   3336371.92  successful    87142      US   \n",
       "838978564  2015-01-12 18:55:08   3327757.00  successful    16038      US   \n",
       "1786171130 2015-10-14 19:00:05   3307773.49  successful     8744      US   \n",
       "1494516688 2016-02-09 18:00:50   3246588.55  successful    63758      US   \n",
       "1194278206 2015-05-01 17:57:02   2090104.10  successful    73206      GB   \n",
       "...                        ...          ...         ...      ...     ...   \n",
       "566129955  2016-04-04 20:28:46      3425.00  successful        0    N,0\"   \n",
       "568777516  2016-04-15 18:15:18      8525.00  successful        0    N,0\"   \n",
       "573365912  2016-04-12 12:56:11      2011.00  successful        0    N,0\"   \n",
       "577662386  2016-04-12 05:11:40      3070.00  successful        0    N,0\"   \n",
       "610154753  2016-04-08 10:07:43      2452.00  successful        0    N,0\"   \n",
       "611083586  2016-05-07 01:06:02      5668.00  successful        0    N,0\"   \n",
       "617632903  2016-03-04 01:26:26      5810.00  successful        0    N,0\"   \n",
       "628318669  2016-05-03 02:43:13      4161.00  successful        0    N,0\"   \n",
       "634327860  2016-03-02 22:39:12      7286.00  successful        0    N,0\"   \n",
       "645829934  2016-04-19 15:04:19      3129.00  successful        0    N,0\"   \n",
       "670047018  2016-04-05 11:56:16      2311.00  successful        0    N,0\"   \n",
       "685752214  2016-05-02 04:07:09      5427.00  successful        0    N,0\"   \n",
       "691025940  2013-03-08 15:14:22      3185.00  successful        0    N,0\"   \n",
       "692571317  2016-04-18 05:14:27      2186.00  successful        0    N,0\"   \n",
       "693701534  2016-04-12 06:12:25      1670.00  successful        0    N,0\"   \n",
       "715827259  2016-04-30 20:00:00      2060.00  successful        0    N,0\"   \n",
       "721338336  2016-04-21 05:30:46      6525.60  successful        0    N,0\"   \n",
       "723130569  2016-03-30 20:14:45      8025.00  successful        0    N,0\"   \n",
       "793819587  2016-03-25 06:44:28      5514.00  successful        0    N,0\"   \n",
       "808183588  2016-05-20 21:01:56      4497.00  successful        0    N,0\"   \n",
       "823779197  2016-04-07 23:24:41      5955.00  successful        0    N,0\"   \n",
       "826085967  2016-04-12 19:21:59      1500.00  successful        0    N,0\"   \n",
       "84711701   2016-04-07 15:35:33      7623.00  successful        0    N,0\"   \n",
       "854648390  2016-03-17 20:04:13      8889.00  successful        0    N,0\"   \n",
       "906504187  2016-05-01 19:40:30      3646.00  successful        0    N,0\"   \n",
       "944349765  2013-03-12 20:03:33      2780.00  successful        0    N,0\"   \n",
       "948175095  2016-03-30 17:23:28      2560.00  successful        0    N,0\"   \n",
       "949209229  2016-03-25 03:54:04      9625.00  successful        0    N,0\"   \n",
       "967557880  2016-04-05 18:56:21      3686.00  successful        0    N,0\"   \n",
       "997793413  2016-04-14 01:27:27      2300.00  successful        0    N,0\"   \n",
       "\n",
       "            usd pledged  usd_pledged_real  usd_goal_real  days_to_collect  \\\n",
       "ID                                                                          \n",
       "1799979574  20338986.27       20338986.27      500000.00               31   \n",
       "342886736   13285226.36       13285226.36       50000.00               52   \n",
       "2103598555  12779843.49       12779843.49     1000000.00               36   \n",
       "506924864   10266845.74       10266845.74      100000.00               37   \n",
       "565687737    9192055.66        9192055.66       20000.00               57   \n",
       "1955357092   8782571.99        8782571.99       10000.00               30   \n",
       "1033978702   8596474.58        8596474.58      950000.00               29   \n",
       "947809001    6333295.77        6333295.77     2000000.00               31   \n",
       "1152735261   6225354.98        6225354.98      800000.00               34   \n",
       "1454565733   5764229.38        5764229.38     2000000.00               31   \n",
       "1755266685   5702153.38        5702153.38     2000000.00               30   \n",
       "1074800880   5545991.70        5545991.70      500000.00               32   \n",
       "557230947    5408916.95        5408916.95     1000000.00               34   \n",
       "606910105    5342789.07        5494492.81       72842.76               26   \n",
       "545070200    5228482.00       12393139.69      100000.00               43   \n",
       "919996644    4869472.20        4869472.20      100000.00               59   \n",
       "286165030    4188927.49        4188927.49      900000.00               30   \n",
       "1045500705   4079204.52        4079204.52      125000.00               28   \n",
       "458565935    3986929.49        3986929.49     1100000.00               32   \n",
       "564596765    3845170.68        3845170.68      900000.00               30   \n",
       "499322084    3656617.53        3536988.20      189336.56               44   \n",
       "132311747    3560642.66        3560642.66      200000.00               30   \n",
       "768428035    3429235.52        3429235.52       30000.00               32   \n",
       "1265992004   3401361.08        3401361.08       50000.00               29   \n",
       "1855038253   3390551.00        3390551.00      260000.00               49   \n",
       "1929840910   3336371.92        3336371.92      400000.00               33   \n",
       "838978564    3327757.00        3327757.00       80000.00               29   \n",
       "1786171130   3307773.49        3307773.49      125000.00               59   \n",
       "1494516688   3246588.55        3246588.55       10000.00               29   \n",
       "1194278206   3225225.40        3310374.26      277170.64               46   \n",
       "...                 ...               ...            ...              ...   \n",
       "566129955           NaN           3425.00        3000.00               24   \n",
       "568777516           NaN           8525.00        8000.00               34   \n",
       "573365912           NaN           2897.57        2161.29               29   \n",
       "577662386           NaN           3070.00        3000.00               29   \n",
       "610154753           NaN           2452.00        2000.00               29   \n",
       "611083586           NaN           5668.00        5000.00               17   \n",
       "617632903           NaN           5810.00        4000.00               59   \n",
       "628318669           NaN           4161.00        4000.00               14   \n",
       "634327860           NaN           7286.00        7000.00               59   \n",
       "645829934           NaN           4558.50        4370.57               29   \n",
       "670047018           NaN           3349.13        2173.82               29   \n",
       "685752214           NaN           5427.00        5000.00               28   \n",
       "691025940           NaN           3185.00        2400.00               29   \n",
       "692571317           NaN           2186.00        2000.00               31   \n",
       "693701534           NaN           1670.00        1500.00               15   \n",
       "715827259           NaN           2060.00        2000.00               29   \n",
       "721338336           NaN           6525.60        6000.00               29   \n",
       "723130569           NaN           8025.00        7000.00               29   \n",
       "793819587           NaN           5514.00        5500.00               30   \n",
       "808183588           NaN           4497.00        3795.00                7   \n",
       "823779197           NaN           6757.75        6241.42               29   \n",
       "826085967           NaN           1500.00        1500.00               29   \n",
       "84711701            NaN           7623.00        7500.00               34   \n",
       "854648390           NaN           8889.00        6500.00               39   \n",
       "906504187           NaN           3646.00        3500.00               29   \n",
       "944349765           NaN           2780.00        2500.00               29   \n",
       "948175095           NaN           2560.00        2500.00               29   \n",
       "949209229           NaN           9625.00        8000.00               59   \n",
       "967557880           NaN           3686.00        3500.00               22   \n",
       "997793413           NaN           2300.00        2000.00               29   \n",
       "\n",
       "            usd_needed_per_day  \n",
       "ID                              \n",
       "1799979574        16129.032258  \n",
       "342886736           961.538462  \n",
       "2103598555        27777.777778  \n",
       "506924864          2702.702703  \n",
       "565687737           350.877193  \n",
       "1955357092          333.333333  \n",
       "1033978702        32758.620690  \n",
       "947809001         64516.129032  \n",
       "1152735261        23529.411765  \n",
       "1454565733        64516.129032  \n",
       "1755266685        66666.666667  \n",
       "1074800880        15625.000000  \n",
       "557230947         29411.764706  \n",
       "606910105          2801.644615  \n",
       "545070200          2325.581395  \n",
       "919996644          1694.915254  \n",
       "286165030         30000.000000  \n",
       "1045500705         4464.285714  \n",
       "458565935         34375.000000  \n",
       "564596765         30000.000000  \n",
       "499322084          4303.103636  \n",
       "132311747          6666.666667  \n",
       "768428035           937.500000  \n",
       "1265992004         1724.137931  \n",
       "1855038253         5306.122449  \n",
       "1929840910        12121.212121  \n",
       "838978564          2758.620690  \n",
       "1786171130         2118.644068  \n",
       "1494516688          344.827586  \n",
       "1194278206         6025.448696  \n",
       "...                        ...  \n",
       "566129955           125.000000  \n",
       "568777516           235.294118  \n",
       "573365912            74.527241  \n",
       "577662386           103.448276  \n",
       "610154753            68.965517  \n",
       "611083586           294.117647  \n",
       "617632903            67.796610  \n",
       "628318669           285.714286  \n",
       "634327860           118.644068  \n",
       "645829934           150.709310  \n",
       "670047018            74.959310  \n",
       "685752214           178.571429  \n",
       "691025940            82.758621  \n",
       "692571317            64.516129  \n",
       "693701534           100.000000  \n",
       "715827259            68.965517  \n",
       "721338336           206.896552  \n",
       "723130569           241.379310  \n",
       "793819587           183.333333  \n",
       "808183588           542.142857  \n",
       "823779197           215.221379  \n",
       "826085967            51.724138  \n",
       "84711701            220.588235  \n",
       "854648390           166.666667  \n",
       "906504187           120.689655  \n",
       "944349765            86.206897  \n",
       "948175095            86.206897  \n",
       "949209229           135.593220  \n",
       "967557880           159.090909  \n",
       "997793413            68.965517  \n",
       "\n",
       "[133956 rows x 16 columns]"
      ]
     },
     "execution_count": 53,
     "metadata": {},
     "output_type": "execute_result"
    }
   ],
   "source": [
    "df[df['state'] == 'successful'].sort_values('usd pledged', ascending=False)"
   ]
  },
  {
   "cell_type": "code",
   "execution_count": 54,
   "metadata": {
    "ExecuteTime": {
     "end_time": "2019-04-10T16:55:29.267416Z",
     "start_time": "2019-04-10T16:55:29.260660Z"
    }
   },
   "outputs": [
    {
     "data": {
      "text/plain": [
       "[failed, canceled, successful, live, undefined, suspended]\n",
       "Categories (6, object): [failed, canceled, successful, live, undefined, suspended]"
      ]
     },
     "execution_count": 54,
     "metadata": {},
     "output_type": "execute_result"
    }
   ],
   "source": [
    "df['state'].unique()"
   ]
  },
  {
   "cell_type": "markdown",
   "metadata": {},
   "source": [
    "We define \n",
    "* `failed`, `canceled`, `undefined` and `suspended` as failed.\n",
    "* `successful` as success.\n",
    "* `live` not relevant ==> will be deleted since our goal is to predict if it will fail or succeed"
   ]
  },
  {
   "cell_type": "code",
   "execution_count": 55,
   "metadata": {
    "ExecuteTime": {
     "end_time": "2019-04-10T16:55:29.633916Z",
     "start_time": "2019-04-10T16:55:29.617860Z"
    }
   },
   "outputs": [],
   "source": [
    "conditions = [df['state'].isin(['failed', 'canceled', 'undefined', 'suspended']),\n",
    "             df['state'].isin(['successful'])]\n",
    "df['cln_state'] = np.select(conditions, [-1, 1])"
   ]
  },
  {
   "cell_type": "markdown",
   "metadata": {},
   "source": [
    "### Calculate the average contribution per backer"
   ]
  },
  {
   "cell_type": "code",
   "execution_count": 56,
   "metadata": {
    "ExecuteTime": {
     "end_time": "2019-04-10T16:55:30.153313Z",
     "start_time": "2019-04-10T16:55:30.142626Z"
    }
   },
   "outputs": [],
   "source": [
    "# replace the inf values with 0 (0/something) = np.inf) \n",
    "df['usd_per_backer'] = (df['usd_goal_real'] / df['backers']).replace([np.inf, -np.inf], 0)"
   ]
  },
  {
   "cell_type": "markdown",
   "metadata": {},
   "source": [
    "### Average `usd_needed_per_day` per state"
   ]
  },
  {
   "cell_type": "code",
   "execution_count": 57,
   "metadata": {
    "ExecuteTime": {
     "end_time": "2019-04-10T16:55:30.524075Z",
     "start_time": "2019-04-10T16:55:30.492025Z"
    }
   },
   "outputs": [],
   "source": [
    "usd_pd = df.groupby('state')['usd_needed_per_day'].mean()"
   ]
  },
  {
   "cell_type": "code",
   "execution_count": 58,
   "metadata": {
    "ExecuteTime": {
     "end_time": "2019-04-10T16:55:30.809451Z",
     "start_time": "2019-04-10T16:55:30.681716Z"
    }
   },
   "outputs": [
    {
     "data": {
      "text/plain": [
       "Text(0.5, 0, 'USD needed per day to succeed')"
      ]
     },
     "execution_count": 58,
     "metadata": {},
     "output_type": "execute_result"
    },
    {
     "data": {
      "image/png": "[encoded data removed]",
      "text/plain": [
       "<Figure size 432x288 with 1 Axes>"
      ]
     },
     "metadata": {
      "needs_background": "light"
     },
     "output_type": "display_data"
    }
   ],
   "source": [
    "ax = usd_pd.sort_values().plot.barh(color='green', title='Average usd needed per day to succeed')\n",
    "ax.set_xlabel('USD needed per day to succeed')"
   ]
  },
  {
   "cell_type": "code",
   "execution_count": 59,
   "metadata": {
    "ExecuteTime": {
     "end_time": "2019-04-10T16:55:30.890820Z",
     "start_time": "2019-04-10T16:55:30.874644Z"
    }
   },
   "outputs": [
    {
     "data": {
      "text/plain": [
       "Ttest_indResult(statistic=-15.249079028640972, pvalue=1.8067227497003203e-52)"
      ]
     },
     "execution_count": 59,
     "metadata": {},
     "output_type": "execute_result"
    }
   ],
   "source": [
    "stats.ttest_ind(df.loc[df['state']=='successful' ,'usd_needed_per_day'].values,\n",
    "                df.loc[df['state']=='canceled' ,'usd_needed_per_day'].values)"
   ]
  },
  {
   "cell_type": "markdown",
   "metadata": {},
   "source": [
    "The difference between `canceled` and `successful` is significantly different for the column `usd_needed_per_day`. So the `usd_needed_per_day` really makes a different."
   ]
  },
  {
   "cell_type": "markdown",
   "metadata": {},
   "source": [
    "### Do the length of the project make a difference (0 - 30 days and 31 - 60 days)"
   ]
  },
  {
   "cell_type": "code",
   "execution_count": 60,
   "metadata": {
    "ExecuteTime": {
     "end_time": "2019-04-10T16:55:31.574952Z",
     "start_time": "2019-04-10T16:55:31.543463Z"
    }
   },
   "outputs": [],
   "source": [
    "df['days_bins'] = pd.cut(df['days_to_collect'], \n",
    "                         bins = [0,30,60], \n",
    "                         labels=['short', 'long'])\n",
    "\n",
    "df['usd_bins_per_day'] = pd.cut(df['usd_needed_per_day'], \n",
    "                                bins = [0,100, 500, 1000, 10_000], \n",
    "                                labels = ['small', 'medium', 'big', 'huge'])"
   ]
  },
  {
   "cell_type": "code",
   "execution_count": 61,
   "metadata": {
    "ExecuteTime": {
     "end_time": "2019-04-10T16:55:31.813963Z",
     "start_time": "2019-04-10T16:55:31.793394Z"
    }
   },
   "outputs": [],
   "source": [
    "length_diff = df.groupby(['state', 'days_bins', 'usd_bins_per_day'])['goal'].count()"
   ]
  },
  {
   "cell_type": "code",
   "execution_count": 62,
   "metadata": {
    "ExecuteTime": {
     "end_time": "2019-04-10T16:55:31.995631Z",
     "start_time": "2019-04-10T16:55:31.975882Z"
    }
   },
   "outputs": [],
   "source": [
    "sum_count_short = length_diff[['failed', 'successful']]\\\n",
    "    .xs('short', level=1)\\\n",
    "    .reset_index()\\\n",
    "    .groupby('usd_bins_per_day')\\\n",
    "    .sum()\n",
    "\n",
    "sum_count_long = length_diff[['failed', 'successful']]\\\n",
    "    .xs('long', level=1).reset_index()\\\n",
    "    .groupby('usd_bins_per_day')\\\n",
    "    .sum()"
   ]
  },
  {
   "cell_type": "code",
   "execution_count": 63,
   "metadata": {
    "ExecuteTime": {
     "end_time": "2019-04-10T16:55:32.199492Z",
     "start_time": "2019-04-10T16:55:32.176214Z"
    }
   },
   "outputs": [],
   "source": [
    "sum_count_short_succ = length_diff[['successful']]\\\n",
    "    .xs('short', level=1)\\\n",
    "    .reset_index()\\\n",
    "    .groupby('usd_bins_per_day')\\\n",
    "    .sum()\n",
    "\n",
    "sum_count_long_succ = length_diff[['successful']]\\\n",
    "    .xs('long', level=1)\\\n",
    "    .reset_index()\\\n",
    "    .groupby('usd_bins_per_day')\\\n",
    "    .sum()"
   ]
  },
  {
   "cell_type": "code",
   "execution_count": 64,
   "metadata": {
    "ExecuteTime": {
     "end_time": "2019-04-10T16:55:32.370881Z",
     "start_time": "2019-04-10T16:55:32.366050Z"
    }
   },
   "outputs": [],
   "source": [
    "succ_short_prob = sum_count_short_succ / sum_count_short\n",
    "succ_long_prob = sum_count_long_succ / sum_count_long"
   ]
  },
  {
   "cell_type": "code",
   "execution_count": 65,
   "metadata": {
    "ExecuteTime": {
     "end_time": "2019-04-10T16:55:32.549853Z",
     "start_time": "2019-04-10T16:55:32.546159Z"
    }
   },
   "outputs": [],
   "source": [
    "succ_short_prob = succ_short_prob.rename(columns = {'goal':'short'})"
   ]
  },
  {
   "cell_type": "code",
   "execution_count": 66,
   "metadata": {
    "ExecuteTime": {
     "end_time": "2019-04-10T16:55:32.716629Z",
     "start_time": "2019-04-10T16:55:32.712989Z"
    }
   },
   "outputs": [],
   "source": [
    "succ_long_prob = succ_long_prob.rename(columns = {'goal':'long'})"
   ]
  },
  {
   "cell_type": "code",
   "execution_count": 67,
   "metadata": {
    "ExecuteTime": {
     "end_time": "2019-04-10T16:55:33.067064Z",
     "start_time": "2019-04-10T16:55:32.898062Z"
    }
   },
   "outputs": [
    {
     "data": {
      "image/png": "[encoded data removed]",
      "text/plain": [
       "<Figure size 432x288 with 1 Axes>"
      ]
     },
     "metadata": {
      "needs_background": "light"
     },
     "output_type": "display_data"
    }
   ],
   "source": [
    "ax = pd.concat([succ_long_prob, succ_short_prob], axis=1).sort_values(by='short').plot.barh(title = 'Probabilty of succes by lenght')\n",
    "ax.set_ylabel('probability of succes');"
   ]
  },
  {
   "cell_type": "markdown",
   "metadata": {},
   "source": [
    "### Check the probability of success per `main_category`"
   ]
  },
  {
   "cell_type": "code",
   "execution_count": 68,
   "metadata": {
    "ExecuteTime": {
     "end_time": "2019-04-10T16:55:33.331763Z",
     "start_time": "2019-04-10T16:55:33.312528Z"
    }
   },
   "outputs": [],
   "source": [
    "proba_state_main = df.groupby(['main_category', 'state'])['launched'].count()\\\n",
    "    / \\\n",
    "    df.groupby('main_category')['launched'].count()"
   ]
  },
  {
   "cell_type": "code",
   "execution_count": 69,
   "metadata": {
    "ExecuteTime": {
     "end_time": "2019-04-10T16:55:33.656661Z",
     "start_time": "2019-04-10T16:55:33.476149Z"
    }
   },
   "outputs": [
    {
     "data": {
      "image/png": "[encoded data removed]",
      "text/plain": [
       "<Figure size 432x288 with 1 Axes>"
      ]
     },
     "metadata": {
      "needs_background": "light"
     },
     "output_type": "display_data"
    }
   ],
   "source": [
    "proba_state_main.xs('successful', level=1)\\\n",
    "    .sort_values(ascending=True)\\\n",
    "    .plot\\\n",
    "    .barh(color='green', title='Probability of succes per main_category');"
   ]
  },
  {
   "cell_type": "markdown",
   "metadata": {},
   "source": [
    "### Top 5 most successful projects (the onces with most USD money pledged)"
   ]
  },
  {
   "cell_type": "code",
   "execution_count": 70,
   "metadata": {
    "ExecuteTime": {
     "end_time": "2019-04-10T16:55:33.970719Z",
     "start_time": "2019-04-10T16:55:33.882580Z"
    }
   },
   "outputs": [
    {
     "data": {
      "text/html": [
       "<div>\n",
       "<style scoped>\n",
       "    .dataframe tbody tr th:only-of-type {\n",
       "        vertical-align: middle;\n",
       "    }\n",
       "\n",
       "    .dataframe tbody tr th {\n",
       "        vertical-align: top;\n",
       "    }\n",
       "\n",
       "    .dataframe thead th {\n",
       "        text-align: right;\n",
       "    }\n",
       "</style>\n",
       "<table border=\"1\" class=\"dataframe\">\n",
       "  <thead>\n",
       "    <tr style=\"text-align: right;\">\n",
       "      <th></th>\n",
       "      <th>name</th>\n",
       "      <th>category</th>\n",
       "      <th>main_category</th>\n",
       "      <th>currency</th>\n",
       "      <th>deadline</th>\n",
       "      <th>goal</th>\n",
       "      <th>launched</th>\n",
       "      <th>pledged</th>\n",
       "      <th>state</th>\n",
       "      <th>backers</th>\n",
       "      <th>country</th>\n",
       "      <th>usd pledged</th>\n",
       "      <th>usd_pledged_real</th>\n",
       "      <th>usd_goal_real</th>\n",
       "      <th>days_to_collect</th>\n",
       "      <th>usd_needed_per_day</th>\n",
       "      <th>cln_state</th>\n",
       "      <th>usd_per_backer</th>\n",
       "      <th>days_bins</th>\n",
       "      <th>usd_bins_per_day</th>\n",
       "    </tr>\n",
       "    <tr>\n",
       "      <th>ID</th>\n",
       "      <th></th>\n",
       "      <th></th>\n",
       "      <th></th>\n",
       "      <th></th>\n",
       "      <th></th>\n",
       "      <th></th>\n",
       "      <th></th>\n",
       "      <th></th>\n",
       "      <th></th>\n",
       "      <th></th>\n",
       "      <th></th>\n",
       "      <th></th>\n",
       "      <th></th>\n",
       "      <th></th>\n",
       "      <th></th>\n",
       "      <th></th>\n",
       "      <th></th>\n",
       "      <th></th>\n",
       "      <th></th>\n",
       "      <th></th>\n",
       "    </tr>\n",
       "  </thead>\n",
       "  <tbody>\n",
       "    <tr>\n",
       "      <th>1799979574</th>\n",
       "      <td>Pebble Time - Awesome Smartwatch, No Compromises</td>\n",
       "      <td>Product Design</td>\n",
       "      <td>Design</td>\n",
       "      <td>USD</td>\n",
       "      <td>2015-03-28</td>\n",
       "      <td>500000.0</td>\n",
       "      <td>2015-02-24 15:44:42</td>\n",
       "      <td>20338986.27</td>\n",
       "      <td>successful</td>\n",
       "      <td>78471</td>\n",
       "      <td>US</td>\n",
       "      <td>20338986.27</td>\n",
       "      <td>20338986.27</td>\n",
       "      <td>500000.0</td>\n",
       "      <td>31</td>\n",
       "      <td>16129.032258</td>\n",
       "      <td>1</td>\n",
       "      <td>6.371781</td>\n",
       "      <td>long</td>\n",
       "      <td>NaN</td>\n",
       "    </tr>\n",
       "    <tr>\n",
       "      <th>342886736</th>\n",
       "      <td>COOLEST COOLER: 21st Century Cooler that's Act...</td>\n",
       "      <td>Product Design</td>\n",
       "      <td>Design</td>\n",
       "      <td>USD</td>\n",
       "      <td>2014-08-30</td>\n",
       "      <td>50000.0</td>\n",
       "      <td>2014-07-08 10:14:37</td>\n",
       "      <td>13285226.36</td>\n",
       "      <td>successful</td>\n",
       "      <td>62642</td>\n",
       "      <td>US</td>\n",
       "      <td>13285226.36</td>\n",
       "      <td>13285226.36</td>\n",
       "      <td>50000.0</td>\n",
       "      <td>52</td>\n",
       "      <td>961.538462</td>\n",
       "      <td>1</td>\n",
       "      <td>0.798187</td>\n",
       "      <td>long</td>\n",
       "      <td>big</td>\n",
       "    </tr>\n",
       "    <tr>\n",
       "      <th>2103598555</th>\n",
       "      <td>Pebble 2, Time 2 + All-New Pebble Core</td>\n",
       "      <td>Product Design</td>\n",
       "      <td>Design</td>\n",
       "      <td>USD</td>\n",
       "      <td>2016-06-30</td>\n",
       "      <td>1000000.0</td>\n",
       "      <td>2016-05-24 15:49:52</td>\n",
       "      <td>12779843.49</td>\n",
       "      <td>successful</td>\n",
       "      <td>66673</td>\n",
       "      <td>US</td>\n",
       "      <td>12779843.49</td>\n",
       "      <td>12779843.49</td>\n",
       "      <td>1000000.0</td>\n",
       "      <td>36</td>\n",
       "      <td>27777.777778</td>\n",
       "      <td>1</td>\n",
       "      <td>14.998575</td>\n",
       "      <td>long</td>\n",
       "      <td>NaN</td>\n",
       "    </tr>\n",
       "    <tr>\n",
       "      <th>545070200</th>\n",
       "      <td>Kingdom Death: Monster 1.5</td>\n",
       "      <td>Tabletop Games</td>\n",
       "      <td>Games</td>\n",
       "      <td>USD</td>\n",
       "      <td>2017-01-08</td>\n",
       "      <td>100000.0</td>\n",
       "      <td>2016-11-25 06:01:41</td>\n",
       "      <td>12393139.69</td>\n",
       "      <td>successful</td>\n",
       "      <td>19264</td>\n",
       "      <td>US</td>\n",
       "      <td>5228482.00</td>\n",
       "      <td>12393139.69</td>\n",
       "      <td>100000.0</td>\n",
       "      <td>43</td>\n",
       "      <td>2325.581395</td>\n",
       "      <td>1</td>\n",
       "      <td>5.191030</td>\n",
       "      <td>long</td>\n",
       "      <td>huge</td>\n",
       "    </tr>\n",
       "    <tr>\n",
       "      <th>506924864</th>\n",
       "      <td>Pebble: E-Paper Watch for iPhone and Android</td>\n",
       "      <td>Product Design</td>\n",
       "      <td>Design</td>\n",
       "      <td>USD</td>\n",
       "      <td>2012-05-19</td>\n",
       "      <td>100000.0</td>\n",
       "      <td>2012-04-11 06:59:04</td>\n",
       "      <td>10266845.74</td>\n",
       "      <td>successful</td>\n",
       "      <td>68929</td>\n",
       "      <td>US</td>\n",
       "      <td>10266845.74</td>\n",
       "      <td>10266845.74</td>\n",
       "      <td>100000.0</td>\n",
       "      <td>37</td>\n",
       "      <td>2702.702703</td>\n",
       "      <td>1</td>\n",
       "      <td>1.450768</td>\n",
       "      <td>long</td>\n",
       "      <td>huge</td>\n",
       "    </tr>\n",
       "  </tbody>\n",
       "</table>\n",
       "</div>"
      ],
      "text/plain": [
       "                                                         name        category  \\\n",
       "ID                                                                              \n",
       "1799979574   Pebble Time - Awesome Smartwatch, No Compromises  Product Design   \n",
       "342886736   COOLEST COOLER: 21st Century Cooler that's Act...  Product Design   \n",
       "2103598555             Pebble 2, Time 2 + All-New Pebble Core  Product Design   \n",
       "545070200                          Kingdom Death: Monster 1.5  Tabletop Games   \n",
       "506924864        Pebble: E-Paper Watch for iPhone and Android  Product Design   \n",
       "\n",
       "           main_category currency   deadline       goal            launched  \\\n",
       "ID                                                                            \n",
       "1799979574        Design      USD 2015-03-28   500000.0 2015-02-24 15:44:42   \n",
       "342886736         Design      USD 2014-08-30    50000.0 2014-07-08 10:14:37   \n",
       "2103598555        Design      USD 2016-06-30  1000000.0 2016-05-24 15:49:52   \n",
       "545070200          Games      USD 2017-01-08   100000.0 2016-11-25 06:01:41   \n",
       "506924864         Design      USD 2012-05-19   100000.0 2012-04-11 06:59:04   \n",
       "\n",
       "                pledged       state  backers country  usd pledged  \\\n",
       "ID                                                                  \n",
       "1799979574  20338986.27  successful    78471      US  20338986.27   \n",
       "342886736   13285226.36  successful    62642      US  13285226.36   \n",
       "2103598555  12779843.49  successful    66673      US  12779843.49   \n",
       "545070200   12393139.69  successful    19264      US   5228482.00   \n",
       "506924864   10266845.74  successful    68929      US  10266845.74   \n",
       "\n",
       "            usd_pledged_real  usd_goal_real  days_to_collect  \\\n",
       "ID                                                             \n",
       "1799979574       20338986.27       500000.0               31   \n",
       "342886736        13285226.36        50000.0               52   \n",
       "2103598555       12779843.49      1000000.0               36   \n",
       "545070200        12393139.69       100000.0               43   \n",
       "506924864        10266845.74       100000.0               37   \n",
       "\n",
       "            usd_needed_per_day  cln_state  usd_per_backer days_bins  \\\n",
       "ID                                                                    \n",
       "1799979574        16129.032258          1        6.371781      long   \n",
       "342886736           961.538462          1        0.798187      long   \n",
       "2103598555        27777.777778          1       14.998575      long   \n",
       "545070200          2325.581395          1        5.191030      long   \n",
       "506924864          2702.702703          1        1.450768      long   \n",
       "\n",
       "           usd_bins_per_day  \n",
       "ID                           \n",
       "1799979574              NaN  \n",
       "342886736               big  \n",
       "2103598555              NaN  \n",
       "545070200              huge  \n",
       "506924864              huge  "
      ]
     },
     "execution_count": 70,
     "metadata": {},
     "output_type": "execute_result"
    }
   ],
   "source": [
    "df.loc[df['state'] == 'successful'].sort_values(by='usd_pledged_real', ascending=False).iloc[:5]"
   ]
  },
  {
   "cell_type": "markdown",
   "metadata": {},
   "source": [
    "### Top 5 most successful where `goal > 100` projects (the onces with the highest ratio `usd_pledged_real` / `goal`)"
   ]
  },
  {
   "cell_type": "code",
   "execution_count": 71,
   "metadata": {
    "ExecuteTime": {
     "end_time": "2019-04-10T16:55:34.297169Z",
     "start_time": "2019-04-10T16:55:34.292596Z"
    }
   },
   "outputs": [],
   "source": [
    "df['goal_ratio'] = df['usd_pledged_real'] / df['goal']"
   ]
  },
  {
   "cell_type": "code",
   "execution_count": 72,
   "metadata": {
    "ExecuteTime": {
     "end_time": "2019-04-10T16:55:34.566997Z",
     "start_time": "2019-04-10T16:55:34.453326Z"
    }
   },
   "outputs": [
    {
     "data": {
      "text/html": [
       "<div>\n",
       "<style scoped>\n",
       "    .dataframe tbody tr th:only-of-type {\n",
       "        vertical-align: middle;\n",
       "    }\n",
       "\n",
       "    .dataframe tbody tr th {\n",
       "        vertical-align: top;\n",
       "    }\n",
       "\n",
       "    .dataframe thead th {\n",
       "        text-align: right;\n",
       "    }\n",
       "</style>\n",
       "<table border=\"1\" class=\"dataframe\">\n",
       "  <thead>\n",
       "    <tr style=\"text-align: right;\">\n",
       "      <th></th>\n",
       "      <th>name</th>\n",
       "      <th>category</th>\n",
       "      <th>main_category</th>\n",
       "      <th>currency</th>\n",
       "      <th>deadline</th>\n",
       "      <th>goal</th>\n",
       "      <th>launched</th>\n",
       "      <th>pledged</th>\n",
       "      <th>state</th>\n",
       "      <th>backers</th>\n",
       "      <th>...</th>\n",
       "      <th>usd pledged</th>\n",
       "      <th>usd_pledged_real</th>\n",
       "      <th>usd_goal_real</th>\n",
       "      <th>days_to_collect</th>\n",
       "      <th>usd_needed_per_day</th>\n",
       "      <th>cln_state</th>\n",
       "      <th>usd_per_backer</th>\n",
       "      <th>days_bins</th>\n",
       "      <th>usd_bins_per_day</th>\n",
       "      <th>goal_ratio</th>\n",
       "    </tr>\n",
       "    <tr>\n",
       "      <th>ID</th>\n",
       "      <th></th>\n",
       "      <th></th>\n",
       "      <th></th>\n",
       "      <th></th>\n",
       "      <th></th>\n",
       "      <th></th>\n",
       "      <th></th>\n",
       "      <th></th>\n",
       "      <th></th>\n",
       "      <th></th>\n",
       "      <th></th>\n",
       "      <th></th>\n",
       "      <th></th>\n",
       "      <th></th>\n",
       "      <th></th>\n",
       "      <th></th>\n",
       "      <th></th>\n",
       "      <th></th>\n",
       "      <th></th>\n",
       "      <th></th>\n",
       "      <th></th>\n",
       "    </tr>\n",
       "  </thead>\n",
       "  <tbody>\n",
       "    <tr>\n",
       "      <th>1176482851</th>\n",
       "      <td>TREVOR HALL presents... The Fruitful Darkness</td>\n",
       "      <td>Music</td>\n",
       "      <td>Music</td>\n",
       "      <td>USD</td>\n",
       "      <td>2017-09-06</td>\n",
       "      <td>108.0</td>\n",
       "      <td>2017-08-07 20:17:39</td>\n",
       "      <td>137570.93</td>\n",
       "      <td>successful</td>\n",
       "      <td>2254</td>\n",
       "      <td>...</td>\n",
       "      <td>33726.00</td>\n",
       "      <td>137570.93</td>\n",
       "      <td>108.00</td>\n",
       "      <td>29</td>\n",
       "      <td>3.724138</td>\n",
       "      <td>1</td>\n",
       "      <td>0.047915</td>\n",
       "      <td>short</td>\n",
       "      <td>small</td>\n",
       "      <td>1273.804907</td>\n",
       "    </tr>\n",
       "    <tr>\n",
       "      <th>1955357092</th>\n",
       "      <td>Exploding Kittens</td>\n",
       "      <td>Tabletop Games</td>\n",
       "      <td>Games</td>\n",
       "      <td>USD</td>\n",
       "      <td>2015-02-20</td>\n",
       "      <td>10000.0</td>\n",
       "      <td>2015-01-20 19:00:19</td>\n",
       "      <td>8782571.99</td>\n",
       "      <td>successful</td>\n",
       "      <td>219382</td>\n",
       "      <td>...</td>\n",
       "      <td>8782571.99</td>\n",
       "      <td>8782571.99</td>\n",
       "      <td>10000.00</td>\n",
       "      <td>30</td>\n",
       "      <td>333.333333</td>\n",
       "      <td>1</td>\n",
       "      <td>0.045583</td>\n",
       "      <td>short</td>\n",
       "      <td>medium</td>\n",
       "      <td>878.257199</td>\n",
       "    </tr>\n",
       "    <tr>\n",
       "      <th>902047561</th>\n",
       "      <td>YOGA : TIME  |  The best way to practice yoga</td>\n",
       "      <td>Apps</td>\n",
       "      <td>Technology</td>\n",
       "      <td>USD</td>\n",
       "      <td>2015-03-11</td>\n",
       "      <td>108.0</td>\n",
       "      <td>2015-01-16 13:10:17</td>\n",
       "      <td>86944.00</td>\n",
       "      <td>successful</td>\n",
       "      <td>1620</td>\n",
       "      <td>...</td>\n",
       "      <td>86944.00</td>\n",
       "      <td>86944.00</td>\n",
       "      <td>108.00</td>\n",
       "      <td>53</td>\n",
       "      <td>2.037736</td>\n",
       "      <td>1</td>\n",
       "      <td>0.066667</td>\n",
       "      <td>long</td>\n",
       "      <td>small</td>\n",
       "      <td>805.037037</td>\n",
       "    </tr>\n",
       "    <tr>\n",
       "      <th>1538025770</th>\n",
       "      <td>MC YOGI: ONLY LOVE IS REAL</td>\n",
       "      <td>Hip-Hop</td>\n",
       "      <td>Music</td>\n",
       "      <td>USD</td>\n",
       "      <td>2014-12-20</td>\n",
       "      <td>108.0</td>\n",
       "      <td>2014-11-05 01:46:40</td>\n",
       "      <td>86506.00</td>\n",
       "      <td>successful</td>\n",
       "      <td>1440</td>\n",
       "      <td>...</td>\n",
       "      <td>86506.00</td>\n",
       "      <td>86506.00</td>\n",
       "      <td>108.00</td>\n",
       "      <td>44</td>\n",
       "      <td>2.454545</td>\n",
       "      <td>1</td>\n",
       "      <td>0.075000</td>\n",
       "      <td>long</td>\n",
       "      <td>small</td>\n",
       "      <td>800.981481</td>\n",
       "    </tr>\n",
       "    <tr>\n",
       "      <th>968166384</th>\n",
       "      <td>Modern Map Art Prints</td>\n",
       "      <td>Graphic Design</td>\n",
       "      <td>Design</td>\n",
       "      <td>GBP</td>\n",
       "      <td>2017-09-23</td>\n",
       "      <td>250.0</td>\n",
       "      <td>2017-08-24 01:17:10</td>\n",
       "      <td>94711.00</td>\n",
       "      <td>successful</td>\n",
       "      <td>1942</td>\n",
       "      <td>...</td>\n",
       "      <td>9018.04</td>\n",
       "      <td>126807.16</td>\n",
       "      <td>334.72</td>\n",
       "      <td>29</td>\n",
       "      <td>11.542069</td>\n",
       "      <td>1</td>\n",
       "      <td>0.172358</td>\n",
       "      <td>short</td>\n",
       "      <td>small</td>\n",
       "      <td>507.228640</td>\n",
       "    </tr>\n",
       "  </tbody>\n",
       "</table>\n",
       "<p>5 rows × 21 columns</p>\n",
       "</div>"
      ],
      "text/plain": [
       "                                                     name        category  \\\n",
       "ID                                                                          \n",
       "1176482851  TREVOR HALL presents... The Fruitful Darkness           Music   \n",
       "1955357092                              Exploding Kittens  Tabletop Games   \n",
       "902047561   YOGA : TIME  |  The best way to practice yoga            Apps   \n",
       "1538025770                     MC YOGI: ONLY LOVE IS REAL         Hip-Hop   \n",
       "968166384                           Modern Map Art Prints  Graphic Design   \n",
       "\n",
       "           main_category currency   deadline     goal            launched  \\\n",
       "ID                                                                          \n",
       "1176482851         Music      USD 2017-09-06    108.0 2017-08-07 20:17:39   \n",
       "1955357092         Games      USD 2015-02-20  10000.0 2015-01-20 19:00:19   \n",
       "902047561     Technology      USD 2015-03-11    108.0 2015-01-16 13:10:17   \n",
       "1538025770         Music      USD 2014-12-20    108.0 2014-11-05 01:46:40   \n",
       "968166384         Design      GBP 2017-09-23    250.0 2017-08-24 01:17:10   \n",
       "\n",
       "               pledged       state  backers     ...      usd pledged  \\\n",
       "ID                                              ...                    \n",
       "1176482851   137570.93  successful     2254     ...         33726.00   \n",
       "1955357092  8782571.99  successful   219382     ...       8782571.99   \n",
       "902047561     86944.00  successful     1620     ...         86944.00   \n",
       "1538025770    86506.00  successful     1440     ...         86506.00   \n",
       "968166384     94711.00  successful     1942     ...          9018.04   \n",
       "\n",
       "            usd_pledged_real  usd_goal_real  days_to_collect  \\\n",
       "ID                                                             \n",
       "1176482851         137570.93         108.00               29   \n",
       "1955357092        8782571.99       10000.00               30   \n",
       "902047561           86944.00         108.00               53   \n",
       "1538025770          86506.00         108.00               44   \n",
       "968166384          126807.16         334.72               29   \n",
       "\n",
       "            usd_needed_per_day  cln_state  usd_per_backer  days_bins  \\\n",
       "ID                                                                     \n",
       "1176482851            3.724138          1        0.047915      short   \n",
       "1955357092          333.333333          1        0.045583      short   \n",
       "902047561             2.037736          1        0.066667       long   \n",
       "1538025770            2.454545          1        0.075000       long   \n",
       "968166384            11.542069          1        0.172358      short   \n",
       "\n",
       "           usd_bins_per_day   goal_ratio  \n",
       "ID                                        \n",
       "1176482851            small  1273.804907  \n",
       "1955357092           medium   878.257199  \n",
       "902047561             small   805.037037  \n",
       "1538025770            small   800.981481  \n",
       "968166384             small   507.228640  \n",
       "\n",
       "[5 rows x 21 columns]"
      ]
     },
     "execution_count": 72,
     "metadata": {},
     "output_type": "execute_result"
    }
   ],
   "source": [
    "df.loc[(df['state'] == 'successful') & (df['goal']>100)]\\\n",
    "    .sort_values(\n",
    "        by='goal_ratio', \n",
    "        ascending=False)\\\n",
    "    .iloc[:5]"
   ]
  },
  {
   "cell_type": "markdown",
   "metadata": {},
   "source": [
    "### Plot the distribution of the numerical variables"
   ]
  },
  {
   "cell_type": "code",
   "execution_count": 73,
   "metadata": {
    "ExecuteTime": {
     "end_time": "2019-04-10T16:55:36.322340Z",
     "start_time": "2019-04-10T16:55:34.994856Z"
    }
   },
   "outputs": [
    {
     "data": {
      "image/png": "[encoded data removed]",
      "text/plain": [
       "<Figure size 1080x720 with 12 Axes>"
      ]
     },
     "metadata": {
      "needs_background": "light"
     },
     "output_type": "display_data"
    }
   ],
   "source": [
    "df.hist(figsize=(15,10));"
   ]
  },
  {
   "cell_type": "markdown",
   "metadata": {},
   "source": [
    "The difference between the average and max value is huge. This means that there are serious outliers which we decided to delete (this will be done in the next step). The outliers will be removed by removing the data which is 3 or more standard deviations away from the mean."
   ]
  },
  {
   "cell_type": "code",
   "execution_count": 74,
   "metadata": {
    "ExecuteTime": {
     "end_time": "2019-04-10T16:55:36.353594Z",
     "start_time": "2019-04-10T16:55:36.325960Z"
    }
   },
   "outputs": [],
   "source": [
    "cols = df.select_dtypes([np.number]).columns"
   ]
  },
  {
   "cell_type": "code",
   "execution_count": 75,
   "metadata": {
    "ExecuteTime": {
     "end_time": "2019-04-10T16:55:36.754058Z",
     "start_time": "2019-04-10T16:55:36.355437Z"
    }
   },
   "outputs": [],
   "source": [
    "df[cols] = df[cols].mask((df[cols] - df[cols].mean()).abs() > 3 * df[cols].std())\n",
    "df = df.dropna()"
   ]
  },
  {
   "cell_type": "code",
   "execution_count": 76,
   "metadata": {
    "ExecuteTime": {
     "end_time": "2019-04-10T16:55:36.795195Z",
     "start_time": "2019-04-10T16:55:36.757742Z"
    }
   },
   "outputs": [],
   "source": [
    "# remove where cln_state = 0\n",
    "df = df[df['cln_state'] !=0 ]"
   ]
  },
  {
   "cell_type": "markdown",
   "metadata": {},
   "source": [
    "Now all the data which is more than 3 standard devations away from the mean is removed."
   ]
  },
  {
   "cell_type": "code",
   "execution_count": 77,
   "metadata": {
    "ExecuteTime": {
     "end_time": "2019-04-10T16:55:38.184046Z",
     "start_time": "2019-04-10T16:55:36.797550Z"
    }
   },
   "outputs": [
    {
     "data": {
      "image/png": "[encoded data removed]",
      "text/plain": [
       "<Figure size 1080x720 with 12 Axes>"
      ]
     },
     "metadata": {
      "needs_background": "light"
     },
     "output_type": "display_data"
    }
   ],
   "source": [
    "df.hist(figsize=(15,10));"
   ]
  },
  {
   "cell_type": "code",
   "execution_count": 78,
   "metadata": {
    "ExecuteTime": {
     "end_time": "2019-04-10T16:55:38.192295Z",
     "start_time": "2019-04-10T16:55:38.186015Z"
    }
   },
   "outputs": [
    {
     "data": {
      "text/plain": [
       "array([-1,  1])"
      ]
     },
     "execution_count": 78,
     "metadata": {},
     "output_type": "execute_result"
    }
   ],
   "source": [
    "df['cln_state'].unique()"
   ]
  },
  {
   "cell_type": "code",
   "execution_count": 79,
   "metadata": {
    "ExecuteTime": {
     "end_time": "2019-04-10T16:55:38.211508Z",
     "start_time": "2019-04-10T16:55:38.194952Z"
    }
   },
   "outputs": [],
   "source": [
    "df = df.drop(columns=['name', \n",
    "                      'deadline', \n",
    "                      'launched', \n",
    "                      'state', \n",
    "                      'pledged',\n",
    "                      'usd pledged', \n",
    "                      'usd_pledged_real', \n",
    "                      'usd_per_backer',\n",
    "                      'backers',\n",
    "                      'goal_ratio'\n",
    "                     ])"
   ]
  },
  {
   "cell_type": "markdown",
   "metadata": {},
   "source": [
    "### Feature evaluation"
   ]
  },
  {
   "cell_type": "code",
   "execution_count": 80,
   "metadata": {
    "ExecuteTime": {
     "end_time": "2019-04-10T16:55:38.237138Z",
     "start_time": "2019-04-10T16:55:38.213041Z"
    }
   },
   "outputs": [],
   "source": [
    "cols = df.select_dtypes([np.number]).drop(columns = 'cln_state').columns"
   ]
  },
  {
   "cell_type": "code",
   "execution_count": 81,
   "metadata": {
    "ExecuteTime": {
     "end_time": "2019-04-10T16:55:38.463093Z",
     "start_time": "2019-04-10T16:55:38.437263Z"
    }
   },
   "outputs": [],
   "source": [
    "df[cols] = pd.DataFrame(normalize(df[cols]), columns = df[cols].columns, index=df.index)"
   ]
  },
  {
   "cell_type": "code",
   "execution_count": 82,
   "metadata": {
    "ExecuteTime": {
     "end_time": "2019-04-10T16:55:39.397601Z",
     "start_time": "2019-04-10T16:55:39.108347Z"
    }
   },
   "outputs": [
    {
     "data": {
      "text/plain": [
       "<matplotlib.axes._subplots.AxesSubplot at 0x1a2c701358>"
      ]
     },
     "execution_count": 82,
     "metadata": {},
     "output_type": "execute_result"
    },
    {
     "data": {
      "image/png": "[encoded data removed]",
      "text/plain": [
       "<Figure size 1080x720 with 2 Axes>"
      ]
     },
     "metadata": {
      "needs_background": "light"
     },
     "output_type": "display_data"
    }
   ],
   "source": [
    "plt.subplots(figsize=(15,10))\n",
    "sns.heatmap(df[np.append(cols.values, 'cln_state')].corr(), annot=True)"
   ]
  },
  {
   "cell_type": "markdown",
   "metadata": {},
   "source": [
    "We choose the features `goal` and `days_to_collect` to apply to logistic regression. We don't include the rest becasue the correlation between them is to high which can cause the algorithm to be confused and not find the optimal weights."
   ]
  },
  {
   "cell_type": "code",
   "execution_count": 83,
   "metadata": {
    "ExecuteTime": {
     "end_time": "2019-04-10T16:55:42.735884Z",
     "start_time": "2019-04-10T16:55:42.730686Z"
    }
   },
   "outputs": [],
   "source": [
    "X = df[['goal', 'days_to_collect']]\n",
    "y = df['cln_state']"
   ]
  },
  {
   "cell_type": "markdown",
   "metadata": {
    "ExecuteTime": {
     "end_time": "2019-04-10T15:33:20.021223Z",
     "start_time": "2019-04-10T15:33:20.017179Z"
    }
   },
   "source": [
    "Apply oversampling because the dataset is imbalanced."
   ]
  },
  {
   "cell_type": "code",
   "execution_count": 84,
   "metadata": {
    "ExecuteTime": {
     "end_time": "2019-04-10T16:55:44.051390Z",
     "start_time": "2019-04-10T16:55:43.834031Z"
    }
   },
   "outputs": [
    {
     "data": {
      "text/plain": [
       "<matplotlib.axes._subplots.AxesSubplot at 0x1a2bb436d8>"
      ]
     },
     "execution_count": 84,
     "metadata": {},
     "output_type": "execute_result"
    },
    {
     "data": {
      "image/png": "[encoded data removed]",
      "text/plain": [
       "<Figure size 432x288 with 1 Axes>"
      ]
     },
     "metadata": {
      "needs_background": "light"
     },
     "output_type": "display_data"
    }
   ],
   "source": [
    "df['cln_state'].plot.hist()"
   ]
  },
  {
   "cell_type": "code",
   "execution_count": 85,
   "metadata": {
    "ExecuteTime": {
     "end_time": "2019-04-10T16:55:46.718721Z",
     "start_time": "2019-04-10T16:55:45.944031Z"
    }
   },
   "outputs": [],
   "source": [
    "X_train, X_test, y_train, y_test = train_test_split(X, y, test_size=0.33, random_state=42)\n",
    "X_train, y_train = SMOTE().fit_resample(X_train, y_train)"
   ]
  },
  {
   "cell_type": "markdown",
   "metadata": {},
   "source": [
    "### LogisticRegression"
   ]
  },
  {
   "cell_type": "code",
   "execution_count": 86,
   "metadata": {
    "ExecuteTime": {
     "end_time": "2019-04-10T16:55:48.637847Z",
     "start_time": "2019-04-10T16:55:48.635102Z"
    }
   },
   "outputs": [],
   "source": [
    "clf = LogisticRegression(penalty='l1')"
   ]
  },
  {
   "cell_type": "code",
   "execution_count": 87,
   "metadata": {
    "ExecuteTime": {
     "end_time": "2019-04-10T16:55:52.841458Z",
     "start_time": "2019-04-10T16:55:49.101202Z"
    },
    "scrolled": true
   },
   "outputs": [
    {
     "name": "stderr",
     "output_type": "stream",
     "text": [
      "/anaconda3/lib/python3.7/site-packages/sklearn/linear_model/logistic.py:433: FutureWarning: Default solver will be changed to 'lbfgs' in 0.22. Specify a solver to silence this warning.\n",
      "  FutureWarning)\n"
     ]
    },
    {
     "data": {
      "text/plain": [
       "LogisticRegression(C=1.0, class_weight=None, dual=False, fit_intercept=True,\n",
       "          intercept_scaling=1, max_iter=100, multi_class='warn',\n",
       "          n_jobs=None, penalty='l1', random_state=None, solver='warn',\n",
       "          tol=0.0001, verbose=0, warm_start=False)"
      ]
     },
     "execution_count": 87,
     "metadata": {},
     "output_type": "execute_result"
    }
   ],
   "source": [
    "clf.fit(X_train, y_train)"
   ]
  },
  {
   "cell_type": "code",
   "execution_count": 88,
   "metadata": {
    "ExecuteTime": {
     "end_time": "2019-04-10T16:55:52.850688Z",
     "start_time": "2019-04-10T16:55:52.843990Z"
    }
   },
   "outputs": [],
   "source": [
    "y_pred = clf.predict(X_test)"
   ]
  },
  {
   "cell_type": "code",
   "execution_count": 89,
   "metadata": {
    "ExecuteTime": {
     "end_time": "2019-04-10T16:55:52.863829Z",
     "start_time": "2019-04-10T16:55:52.852212Z"
    }
   },
   "outputs": [
    {
     "data": {
      "text/plain": [
       "0.6271246191423463"
      ]
     },
     "execution_count": 89,
     "metadata": {},
     "output_type": "execute_result"
    }
   ],
   "source": [
    "accuracy_score(y_test, y_pred)"
   ]
  },
  {
   "cell_type": "code",
   "execution_count": 90,
   "metadata": {
    "ExecuteTime": {
     "end_time": "2019-04-10T16:55:53.124144Z",
     "start_time": "2019-04-10T16:55:52.866253Z"
    }
   },
   "outputs": [
    {
     "data": {
      "text/plain": [
       "<matplotlib.axes._subplots.AxesSubplot at 0x1a2413b320>"
      ]
     },
     "execution_count": 90,
     "metadata": {},
     "output_type": "execute_result"
    },
    {
     "data": {
      "image/png": "[encoded data removed]",
      "text/plain": [
       "<Figure size 432x288 with 2 Axes>"
      ]
     },
     "metadata": {
      "needs_background": "light"
     },
     "output_type": "display_data"
    }
   ],
   "source": [
    "plot_confusion_matrix(y_test, y_pred)"
   ]
  },
  {
   "cell_type": "code",
   "execution_count": 91,
   "metadata": {
    "ExecuteTime": {
     "end_time": "2019-04-10T16:56:00.759834Z",
     "start_time": "2019-04-10T16:55:53.466615Z"
    }
   },
   "outputs": [
    {
     "name": "stderr",
     "output_type": "stream",
     "text": [
      "/anaconda3/lib/python3.7/site-packages/sklearn/model_selection/_split.py:2053: FutureWarning: You should specify a value for 'cv' instead of relying on the default value. The default value will change from 3 to 5 in version 0.22.\n",
      "  warnings.warn(CV_WARNING, FutureWarning)\n"
     ]
    },
    {
     "data": {
      "text/plain": [
       "<matplotlib.axes._subplots.AxesSubplot at 0x1a22727710>"
      ]
     },
     "execution_count": 91,
     "metadata": {},
     "output_type": "execute_result"
    },
    {
     "data": {
      "image/png": "[encoded data removed]",
      "text/plain": [
       "<Figure size 432x288 with 1 Axes>"
      ]
     },
     "metadata": {
      "needs_background": "light"
     },
     "output_type": "display_data"
    }
   ],
   "source": [
    "plot_learning_curve(clf, X, y, n_jobs=-1)"
   ]
  },
  {
   "cell_type": "markdown",
   "metadata": {},
   "source": [
    "### KMeans"
   ]
  },
  {
   "cell_type": "code",
   "execution_count": 92,
   "metadata": {
    "ExecuteTime": {
     "end_time": "2019-04-10T16:56:01.310783Z",
     "start_time": "2019-04-10T16:56:00.762354Z"
    }
   },
   "outputs": [],
   "source": [
    "df_dum = pd.get_dummies(df)"
   ]
  },
  {
   "cell_type": "code",
   "execution_count": 93,
   "metadata": {
    "ExecuteTime": {
     "end_time": "2019-04-10T16:56:01.481462Z",
     "start_time": "2019-04-10T16:56:01.312746Z"
    }
   },
   "outputs": [],
   "source": [
    "cols_dum = df_dum.select_dtypes([np.number]).columns"
   ]
  },
  {
   "cell_type": "code",
   "execution_count": 94,
   "metadata": {
    "ExecuteTime": {
     "end_time": "2019-04-10T16:56:01.486295Z",
     "start_time": "2019-04-10T16:56:01.483625Z"
    }
   },
   "outputs": [],
   "source": [
    "cls = KMeans(n_clusters=4)"
   ]
  },
  {
   "cell_type": "code",
   "execution_count": 95,
   "metadata": {
    "ExecuteTime": {
     "end_time": "2019-04-10T16:56:35.300103Z",
     "start_time": "2019-04-10T16:56:01.488678Z"
    }
   },
   "outputs": [],
   "source": [
    "clusters = cls.fit_predict(df_dum[cols_dum].drop(columns = 'cln_state'))"
   ]
  },
  {
   "cell_type": "markdown",
   "metadata": {},
   "source": [
    "The optimal number of clusters based on the below curve is between 4 and 5 (we choose 5). We tried to calculate the silhouette but the kernel got stuck every time."
   ]
  },
  {
   "cell_type": "code",
   "execution_count": null,
   "metadata": {
    "ExecuteTime": {
     "start_time": "2019-04-10T16:29:55.802Z"
    }
   },
   "outputs": [],
   "source": [
    "plot_elbow_curve(cls, df_dum[cols_dum].drop(columns = 'cln_state'), cluster_ranges=[1,2,3,4,5,6]);"
   ]
  },
  {
   "cell_type": "code",
   "execution_count": 96,
   "metadata": {
    "ExecuteTime": {
     "end_time": "2019-04-10T16:56:35.305689Z",
     "start_time": "2019-04-10T16:56:35.302132Z"
    }
   },
   "outputs": [],
   "source": [
    "df_dum['clusters'] = clusters"
   ]
  },
  {
   "cell_type": "code",
   "execution_count": 97,
   "metadata": {
    "ExecuteTime": {
     "end_time": "2019-04-10T16:56:35.720141Z",
     "start_time": "2019-04-10T16:56:35.308110Z"
    }
   },
   "outputs": [
    {
     "data": {
      "text/plain": [
       "<matplotlib.axes._subplots.AxesSubplot at 0x1a260fa390>"
      ]
     },
     "execution_count": 97,
     "metadata": {},
     "output_type": "execute_result"
    },
    {
     "data": {
      "image/png": "[encoded data removed]",
      "text/plain": [
       "<Figure size 1080x720 with 2 Axes>"
      ]
     },
     "metadata": {
      "needs_background": "light"
     },
     "output_type": "display_data"
    }
   ],
   "source": [
    "plt.subplots(figsize=(15,10))\n",
    "sns.heatmap(df[np.append(cols.values, 'cln_state')].corr(), annot=True)"
   ]
  },
  {
   "cell_type": "markdown",
   "metadata": {
    "ExecuteTime": {
     "end_time": "2019-04-10T16:45:17.595649Z",
     "start_time": "2019-04-10T16:45:17.593611Z"
    }
   },
   "source": [
    "### ExtraTreeClassifier"
   ]
  },
  {
   "cell_type": "code",
   "execution_count": 98,
   "metadata": {
    "ExecuteTime": {
     "end_time": "2019-04-10T16:56:48.547479Z",
     "start_time": "2019-04-10T16:56:48.484660Z"
    }
   },
   "outputs": [],
   "source": [
    "X = df_dum.drop(columns ='cln_state')\n",
    "y = df_dum['cln_state']"
   ]
  },
  {
   "cell_type": "markdown",
   "metadata": {},
   "source": [
    "Apply oversampling because the dataset is imbalanced."
   ]
  },
  {
   "cell_type": "code",
   "execution_count": 99,
   "metadata": {
    "ExecuteTime": {
     "end_time": "2019-04-10T16:56:52.886824Z",
     "start_time": "2019-04-10T16:56:52.681936Z"
    }
   },
   "outputs": [
    {
     "data": {
      "text/plain": [
       "<matplotlib.axes._subplots.AxesSubplot at 0x1a2bba1390>"
      ]
     },
     "execution_count": 99,
     "metadata": {},
     "output_type": "execute_result"
    },
    {
     "data": {
      "image/png": "[encoded data removed]",
      "text/plain": [
       "<Figure size 432x288 with 1 Axes>"
      ]
     },
     "metadata": {
      "needs_background": "light"
     },
     "output_type": "display_data"
    }
   ],
   "source": [
    "df_dum['cln_state'].plot.hist()"
   ]
  },
  {
   "cell_type": "code",
   "execution_count": null,
   "metadata": {
    "ExecuteTime": {
     "start_time": "2019-04-10T16:56:53.555Z"
    }
   },
   "outputs": [],
   "source": [
    "X_train, X_test, y_train, y_test = train_test_split(X, y, test_size=0.33, random_state=42)\n",
    "X_train, y_train = SMOTE().fit_resample(X_train, y_train)"
   ]
  },
  {
   "cell_type": "code",
   "execution_count": null,
   "metadata": {
    "ExecuteTime": {
     "start_time": "2019-04-10T16:57:00.021Z"
    }
   },
   "outputs": [],
   "source": [
    "clf = ExtraTreesClassifier()\n",
    "clf.fit(X_train, y_train)"
   ]
  },
  {
   "cell_type": "code",
   "execution_count": null,
   "metadata": {
    "ExecuteTime": {
     "start_time": "2019-04-10T16:57:01.734Z"
    }
   },
   "outputs": [],
   "source": [
    "y_pred = clf.predict(X_test)"
   ]
  },
  {
   "cell_type": "code",
   "execution_count": null,
   "metadata": {
    "ExecuteTime": {
     "start_time": "2019-04-10T16:57:02.123Z"
    }
   },
   "outputs": [],
   "source": [
    "accuracy_score(y_test, y_pred)"
   ]
  },
  {
   "cell_type": "code",
   "execution_count": null,
   "metadata": {
    "ExecuteTime": {
     "start_time": "2019-04-10T16:57:02.587Z"
    },
    "scrolled": true
   },
   "outputs": [],
   "source": [
    "plot_confusion_matrix(y_test, y_pred)"
   ]
  },
  {
   "cell_type": "code",
   "execution_count": null,
   "metadata": {
    "ExecuteTime": {
     "start_time": "2019-04-10T16:57:03.392Z"
    }
   },
   "outputs": [],
   "source": [
    "fig, ax = plt.subplots(figsize=(15,10))\n",
    "plot_feature_importances(clf, feature_names=X.columns.values, max_num_features=10, ax=ax)"
   ]
  },
  {
   "cell_type": "code",
   "execution_count": 55,
   "metadata": {
    "ExecuteTime": {
     "end_time": "2019-04-10T15:30:25.159218Z",
     "start_time": "2019-04-10T15:29:36.842505Z"
    }
   },
   "outputs": [
    {
     "name": "stderr",
     "output_type": "stream",
     "text": [
      "/anaconda3/lib/python3.7/site-packages/sklearn/model_selection/_split.py:2053: FutureWarning: You should specify a value for 'cv' instead of relying on the default value. The default value will change from 3 to 5 in version 0.22.\n",
      "  warnings.warn(CV_WARNING, FutureWarning)\n"
     ]
    },
    {
     "data": {
      "text/plain": [
       "<matplotlib.axes._subplots.AxesSubplot at 0x1a1fc24b38>"
      ]
     },
     "execution_count": 55,
     "metadata": {},
     "output_type": "execute_result"
    },
    {
     "data": {
      "image/png": "[encoded data removed]",
      "text/plain": [
       "<Figure size 432x288 with 1 Axes>"
      ]
     },
     "metadata": {
      "needs_background": "light"
     },
     "output_type": "display_data"
    }
   ],
   "source": [
    "plot_learning_curve(clf, X, y, n_jobs=-1)"
   ]
  },
  {
   "cell_type": "code",
   "execution_count": null,
   "metadata": {},
   "outputs": [],
   "source": []
  }
 ],
 "metadata": {
  "kernelspec": {
   "display_name": "Python 3",
   "language": "python",
   "name": "python3"
  },
  "language_info": {
   "codemirror_mode": {
    "name": "ipython",
    "version": 3
   },
   "file_extension": ".py",
   "mimetype": "text/x-python",
   "name": "python",
   "nbconvert_exporter": "python",
   "pygments_lexer": "ipython3",
   "version": "3.7.1"
  }
 },
 "nbformat": 4,
 "nbformat_minor": 2
}
